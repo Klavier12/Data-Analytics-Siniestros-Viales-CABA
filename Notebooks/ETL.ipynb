{
 "cells": [
  {
   "cell_type": "code",
   "execution_count": 1,
   "metadata": {},
   "outputs": [],
   "source": [
    "import pandas as pd \n",
    "import numpy as np \n",
    "import matplotlib.pyplot as plt \n",
    "import seaborn as sns\n",
    "import re\n",
    "from fancyimpute import IterativeImputer\n",
    "import locale\n",
    "from sqlalchemy import create_engine\n",
    "import warnings\n",
    "\n",
    "# Ignorar warnings\n",
    "warnings.filterwarnings(\"ignore\")"
   ]
  },
  {
   "cell_type": "markdown",
   "metadata": {},
   "source": [
    "### ETL (Extraction, Transformation, Load)\n",
    "\n",
    "En primer lugar, procedemos a cargar el dataset"
   ]
  },
  {
   "cell_type": "code",
   "execution_count": 2,
   "metadata": {},
   "outputs": [],
   "source": [
    "df_hechos = pd.read_excel(r\"C:\\Users\\Cristian\\Desktop\\DATA SCIENCE\\HENRY\\PI2\\DataLake\\Obligatorio\\homicidios.xlsx\", sheet_name = \"HECHOS\")\n",
    "df_victimas = pd.read_excel(r\"C:\\Users\\Cristian\\Desktop\\DATA SCIENCE\\HENRY\\PI2\\DataLake\\Obligatorio\\homicidios.xlsx\", sheet_name = \"VICTIMAS\")"
   ]
  },
  {
   "cell_type": "markdown",
   "metadata": {},
   "source": [
    "Procedemos a ver las dimensiones del dataframe"
   ]
  },
  {
   "cell_type": "code",
   "execution_count": 3,
   "metadata": {},
   "outputs": [
    {
     "data": {
      "text/plain": [
       "(696, 21)"
      ]
     },
     "execution_count": 3,
     "metadata": {},
     "output_type": "execute_result"
    }
   ],
   "source": [
    "df_hechos.shape"
   ]
  },
  {
   "cell_type": "markdown",
   "metadata": {},
   "source": [
    "Visualizamos"
   ]
  },
  {
   "cell_type": "code",
   "execution_count": 4,
   "metadata": {},
   "outputs": [
    {
     "data": {
      "text/html": [
       "<div>\n",
       "<style scoped>\n",
       "    .dataframe tbody tr th:only-of-type {\n",
       "        vertical-align: middle;\n",
       "    }\n",
       "\n",
       "    .dataframe tbody tr th {\n",
       "        vertical-align: top;\n",
       "    }\n",
       "\n",
       "    .dataframe thead th {\n",
       "        text-align: right;\n",
       "    }\n",
       "</style>\n",
       "<table border=\"1\" class=\"dataframe\">\n",
       "  <thead>\n",
       "    <tr style=\"text-align: right;\">\n",
       "      <th></th>\n",
       "      <th>ID</th>\n",
       "      <th>N_VICTIMAS</th>\n",
       "      <th>FECHA</th>\n",
       "      <th>AAAA</th>\n",
       "      <th>MM</th>\n",
       "      <th>DD</th>\n",
       "      <th>HORA</th>\n",
       "      <th>HH</th>\n",
       "      <th>LUGAR_DEL_HECHO</th>\n",
       "      <th>TIPO_DE_CALLE</th>\n",
       "      <th>...</th>\n",
       "      <th>Altura</th>\n",
       "      <th>Cruce</th>\n",
       "      <th>Dirección Normalizada</th>\n",
       "      <th>COMUNA</th>\n",
       "      <th>XY (CABA)</th>\n",
       "      <th>pos x</th>\n",
       "      <th>pos y</th>\n",
       "      <th>PARTICIPANTES</th>\n",
       "      <th>VICTIMA</th>\n",
       "      <th>ACUSADO</th>\n",
       "    </tr>\n",
       "  </thead>\n",
       "  <tbody>\n",
       "    <tr>\n",
       "      <th>0</th>\n",
       "      <td>2016-0001</td>\n",
       "      <td>1</td>\n",
       "      <td>2016-01-01</td>\n",
       "      <td>2016</td>\n",
       "      <td>1</td>\n",
       "      <td>1</td>\n",
       "      <td>04:00:00</td>\n",
       "      <td>4</td>\n",
       "      <td>AV PIEDRA BUENA Y AV FERNANDEZ DE LA CRUZ</td>\n",
       "      <td>AVENIDA</td>\n",
       "      <td>...</td>\n",
       "      <td>NaN</td>\n",
       "      <td>FERNANDEZ DE LA CRUZ, F., GRAL. AV.</td>\n",
       "      <td>PIEDRA BUENA AV. y FERNANDEZ DE LA CRUZ, F., G...</td>\n",
       "      <td>8</td>\n",
       "      <td>Point (98896.78238426 93532.43437792)</td>\n",
       "      <td>-58.47533969</td>\n",
       "      <td>-34.68757022</td>\n",
       "      <td>MOTO-AUTO</td>\n",
       "      <td>MOTO</td>\n",
       "      <td>AUTO</td>\n",
       "    </tr>\n",
       "    <tr>\n",
       "      <th>1</th>\n",
       "      <td>2016-0002</td>\n",
       "      <td>1</td>\n",
       "      <td>2016-01-02</td>\n",
       "      <td>2016</td>\n",
       "      <td>1</td>\n",
       "      <td>2</td>\n",
       "      <td>01:15:00</td>\n",
       "      <td>1</td>\n",
       "      <td>AV GRAL PAZ  Y AV DE LOS CORRALES</td>\n",
       "      <td>GRAL PAZ</td>\n",
       "      <td>...</td>\n",
       "      <td>NaN</td>\n",
       "      <td>DE LOS CORRALES AV.</td>\n",
       "      <td>PAZ, GRAL. AV. y DE LOS CORRALES AV.</td>\n",
       "      <td>9</td>\n",
       "      <td>Point (95832.05571093 95505.41641999)</td>\n",
       "      <td>-58.50877521</td>\n",
       "      <td>-34.66977709</td>\n",
       "      <td>AUTO-PASAJEROS</td>\n",
       "      <td>AUTO</td>\n",
       "      <td>PASAJEROS</td>\n",
       "    </tr>\n",
       "    <tr>\n",
       "      <th>2</th>\n",
       "      <td>2016-0003</td>\n",
       "      <td>1</td>\n",
       "      <td>2016-01-03</td>\n",
       "      <td>2016</td>\n",
       "      <td>1</td>\n",
       "      <td>3</td>\n",
       "      <td>07:00:00</td>\n",
       "      <td>7</td>\n",
       "      <td>AV ENTRE RIOS 2034</td>\n",
       "      <td>AVENIDA</td>\n",
       "      <td>...</td>\n",
       "      <td>2034.0</td>\n",
       "      <td>NaN</td>\n",
       "      <td>ENTRE RIOS AV. 2034</td>\n",
       "      <td>1</td>\n",
       "      <td>Point (106684.29090040 99706.57687843)</td>\n",
       "      <td>-58.39040293</td>\n",
       "      <td>-34.63189362</td>\n",
       "      <td>MOTO-AUTO</td>\n",
       "      <td>MOTO</td>\n",
       "      <td>AUTO</td>\n",
       "    </tr>\n",
       "    <tr>\n",
       "      <th>3</th>\n",
       "      <td>2016-0004</td>\n",
       "      <td>1</td>\n",
       "      <td>2016-01-10</td>\n",
       "      <td>2016</td>\n",
       "      <td>1</td>\n",
       "      <td>10</td>\n",
       "      <td>00:00:00</td>\n",
       "      <td>0</td>\n",
       "      <td>AV LARRAZABAL Y GRAL VILLEGAS CONRADO</td>\n",
       "      <td>AVENIDA</td>\n",
       "      <td>...</td>\n",
       "      <td>NaN</td>\n",
       "      <td>VILLEGAS, CONRADO, GRAL.</td>\n",
       "      <td>LARRAZABAL AV. y VILLEGAS, CONRADO, GRAL.</td>\n",
       "      <td>8</td>\n",
       "      <td>Point (99840.65224780 94269.16534422)</td>\n",
       "      <td>-58.46503904</td>\n",
       "      <td>-34.68092974</td>\n",
       "      <td>MOTO-SD</td>\n",
       "      <td>MOTO</td>\n",
       "      <td>SD</td>\n",
       "    </tr>\n",
       "    <tr>\n",
       "      <th>4</th>\n",
       "      <td>2016-0005</td>\n",
       "      <td>1</td>\n",
       "      <td>2016-01-21</td>\n",
       "      <td>2016</td>\n",
       "      <td>1</td>\n",
       "      <td>21</td>\n",
       "      <td>05:20:00</td>\n",
       "      <td>5</td>\n",
       "      <td>AV SAN JUAN Y PRESIDENTE LUIS SAENZ PEÑA</td>\n",
       "      <td>AVENIDA</td>\n",
       "      <td>...</td>\n",
       "      <td>NaN</td>\n",
       "      <td>SAENZ PE?A, LUIS, PRES.</td>\n",
       "      <td>SAN JUAN AV. y SAENZ PEÃ‘A, LUIS, PRES.</td>\n",
       "      <td>1</td>\n",
       "      <td>Point (106980.32827929 100752.16915795)</td>\n",
       "      <td>-58.38718297</td>\n",
       "      <td>-34.62246630</td>\n",
       "      <td>MOTO-PASAJEROS</td>\n",
       "      <td>MOTO</td>\n",
       "      <td>PASAJEROS</td>\n",
       "    </tr>\n",
       "  </tbody>\n",
       "</table>\n",
       "<p>5 rows × 21 columns</p>\n",
       "</div>"
      ],
      "text/plain": [
       "          ID  N_VICTIMAS      FECHA  AAAA  MM  DD      HORA HH  \\\n",
       "0  2016-0001           1 2016-01-01  2016   1   1  04:00:00  4   \n",
       "1  2016-0002           1 2016-01-02  2016   1   2  01:15:00  1   \n",
       "2  2016-0003           1 2016-01-03  2016   1   3  07:00:00  7   \n",
       "3  2016-0004           1 2016-01-10  2016   1  10  00:00:00  0   \n",
       "4  2016-0005           1 2016-01-21  2016   1  21  05:20:00  5   \n",
       "\n",
       "                             LUGAR_DEL_HECHO TIPO_DE_CALLE  ...  Altura  \\\n",
       "0  AV PIEDRA BUENA Y AV FERNANDEZ DE LA CRUZ       AVENIDA  ...     NaN   \n",
       "1          AV GRAL PAZ  Y AV DE LOS CORRALES      GRAL PAZ  ...     NaN   \n",
       "2                         AV ENTRE RIOS 2034       AVENIDA  ...  2034.0   \n",
       "3      AV LARRAZABAL Y GRAL VILLEGAS CONRADO       AVENIDA  ...     NaN   \n",
       "4  AV SAN JUAN Y PRESIDENTE LUIS SAENZ PEÑA        AVENIDA  ...     NaN   \n",
       "\n",
       "                                 Cruce  \\\n",
       "0  FERNANDEZ DE LA CRUZ, F., GRAL. AV.   \n",
       "1                  DE LOS CORRALES AV.   \n",
       "2                                  NaN   \n",
       "3             VILLEGAS, CONRADO, GRAL.   \n",
       "4              SAENZ PE?A, LUIS, PRES.   \n",
       "\n",
       "                               Dirección Normalizada COMUNA  \\\n",
       "0  PIEDRA BUENA AV. y FERNANDEZ DE LA CRUZ, F., G...      8   \n",
       "1               PAZ, GRAL. AV. y DE LOS CORRALES AV.      9   \n",
       "2                                ENTRE RIOS AV. 2034      1   \n",
       "3          LARRAZABAL AV. y VILLEGAS, CONRADO, GRAL.      8   \n",
       "4            SAN JUAN AV. y SAENZ PEÃ‘A, LUIS, PRES.      1   \n",
       "\n",
       "                                 XY (CABA)         pos x         pos y  \\\n",
       "0    Point (98896.78238426 93532.43437792)  -58.47533969  -34.68757022   \n",
       "1    Point (95832.05571093 95505.41641999)  -58.50877521  -34.66977709   \n",
       "2   Point (106684.29090040 99706.57687843)  -58.39040293  -34.63189362   \n",
       "3    Point (99840.65224780 94269.16534422)  -58.46503904  -34.68092974   \n",
       "4  Point (106980.32827929 100752.16915795)  -58.38718297  -34.62246630   \n",
       "\n",
       "    PARTICIPANTES VICTIMA    ACUSADO  \n",
       "0       MOTO-AUTO    MOTO       AUTO  \n",
       "1  AUTO-PASAJEROS    AUTO  PASAJEROS  \n",
       "2       MOTO-AUTO    MOTO       AUTO  \n",
       "3         MOTO-SD    MOTO         SD  \n",
       "4  MOTO-PASAJEROS    MOTO  PASAJEROS  \n",
       "\n",
       "[5 rows x 21 columns]"
      ]
     },
     "execution_count": 4,
     "metadata": {},
     "output_type": "execute_result"
    }
   ],
   "source": [
    "df_hechos.head(5)"
   ]
  },
  {
   "cell_type": "markdown",
   "metadata": {},
   "source": [
    "Procedemos a chequear nulos"
   ]
  },
  {
   "cell_type": "code",
   "execution_count": 5,
   "metadata": {},
   "outputs": [
    {
     "data": {
      "text/plain": [
       "ID                         0\n",
       "N_VICTIMAS                 0\n",
       "FECHA                      0\n",
       "AAAA                       0\n",
       "MM                         0\n",
       "DD                         0\n",
       "HORA                       0\n",
       "HH                         0\n",
       "LUGAR_DEL_HECHO            0\n",
       "TIPO_DE_CALLE              0\n",
       "Calle                      1\n",
       "Altura                   567\n",
       "Cruce                    171\n",
       "Dirección Normalizada      8\n",
       "COMUNA                     0\n",
       "XY (CABA)                  0\n",
       "pos x                      0\n",
       "pos y                      0\n",
       "PARTICIPANTES              0\n",
       "VICTIMA                    0\n",
       "ACUSADO                    0\n",
       "dtype: int64"
      ]
     },
     "execution_count": 5,
     "metadata": {},
     "output_type": "execute_result"
    }
   ],
   "source": [
    "df_hechos.isnull().sum()"
   ]
  },
  {
   "cell_type": "code",
   "execution_count": 6,
   "metadata": {},
   "outputs": [
    {
     "name": "stdout",
     "output_type": "stream",
     "text": [
      "ID 0.0%\n",
      "N_VICTIMAS 0.0%\n",
      "FECHA 0.0%\n",
      "AAAA 0.0%\n",
      "MM 0.0%\n",
      "DD 0.0%\n",
      "HORA 0.0%\n",
      "HH 0.0%\n",
      "LUGAR_DEL_HECHO 0.0%\n",
      "TIPO_DE_CALLE 0.0%\n",
      "Calle 0.14%\n",
      "Altura 81.47%\n",
      "Cruce 24.57%\n",
      "Dirección Normalizada 1.15%\n",
      "COMUNA 0.0%\n",
      "XY (CABA) 0.0%\n",
      "pos x 0.0%\n",
      "pos y 0.0%\n",
      "PARTICIPANTES 0.0%\n",
      "VICTIMA 0.0%\n",
      "ACUSADO 0.0%\n"
     ]
    }
   ],
   "source": [
    "porcentaje_nulos = {}\n",
    "for column in df_hechos.columns:\n",
    "    porcentaje = df_hechos[column].isnull().sum() / df_hechos.shape[0]*100\n",
    "    porcentaje_nulos[column] = round(porcentaje,2)\n",
    "for column, percentage in porcentaje_nulos.items():\n",
    "    print(f\"{column:} {percentage}%\")"
   ]
  },
  {
   "cell_type": "code",
   "execution_count": 7,
   "metadata": {},
   "outputs": [
    {
     "name": "stdout",
     "output_type": "stream",
     "text": [
      "Las columnas que se deben eliminar debido a su gran cantidad de valores nulos son: \n",
      "Altura\n"
     ]
    }
   ],
   "source": [
    "col_drop = {}\n",
    "for column, percentage in porcentaje_nulos.items():\n",
    "        if percentage > 50:\n",
    "            col_drop[column] = porcentaje_nulos[column]\n",
    "\n",
    "print(\"Las columnas que se deben eliminar debido a su gran cantidad de valores nulos son: \")\n",
    "for column in col_drop.keys():\n",
    "      print(column)"
   ]
  },
  {
   "cell_type": "markdown",
   "metadata": {},
   "source": [
    "Podemos ver que la gran mayoria de datos de esta columna son nulos. Así que procederemos a eliminarla\n"
   ]
  },
  {
   "cell_type": "code",
   "execution_count": 8,
   "metadata": {},
   "outputs": [
    {
     "data": {
      "text/plain": [
       "(696, 20)"
      ]
     },
     "execution_count": 8,
     "metadata": {},
     "output_type": "execute_result"
    }
   ],
   "source": [
    "to_delete = []\n",
    "for column in col_drop.keys():\n",
    "    to_delete.append(column)\n",
    "df_hechos.drop(columns=(to_delete),inplace = True)\n",
    "df_hechos.shape"
   ]
  },
  {
   "cell_type": "code",
   "execution_count": 9,
   "metadata": {},
   "outputs": [
    {
     "data": {
      "text/html": [
       "<div>\n",
       "<style scoped>\n",
       "    .dataframe tbody tr th:only-of-type {\n",
       "        vertical-align: middle;\n",
       "    }\n",
       "\n",
       "    .dataframe tbody tr th {\n",
       "        vertical-align: top;\n",
       "    }\n",
       "\n",
       "    .dataframe thead th {\n",
       "        text-align: right;\n",
       "    }\n",
       "</style>\n",
       "<table border=\"1\" class=\"dataframe\">\n",
       "  <thead>\n",
       "    <tr style=\"text-align: right;\">\n",
       "      <th></th>\n",
       "      <th>ID</th>\n",
       "      <th>N_VICTIMAS</th>\n",
       "      <th>FECHA</th>\n",
       "      <th>AAAA</th>\n",
       "      <th>MM</th>\n",
       "      <th>DD</th>\n",
       "      <th>HORA</th>\n",
       "      <th>HH</th>\n",
       "      <th>LUGAR_DEL_HECHO</th>\n",
       "      <th>TIPO_DE_CALLE</th>\n",
       "      <th>Calle</th>\n",
       "      <th>Cruce</th>\n",
       "      <th>Dirección Normalizada</th>\n",
       "      <th>COMUNA</th>\n",
       "      <th>XY (CABA)</th>\n",
       "      <th>pos x</th>\n",
       "      <th>pos y</th>\n",
       "      <th>PARTICIPANTES</th>\n",
       "      <th>VICTIMA</th>\n",
       "      <th>ACUSADO</th>\n",
       "    </tr>\n",
       "  </thead>\n",
       "  <tbody>\n",
       "    <tr>\n",
       "      <th>0</th>\n",
       "      <td>2016-0001</td>\n",
       "      <td>1</td>\n",
       "      <td>2016-01-01</td>\n",
       "      <td>2016</td>\n",
       "      <td>1</td>\n",
       "      <td>1</td>\n",
       "      <td>04:00:00</td>\n",
       "      <td>4</td>\n",
       "      <td>AV PIEDRA BUENA Y AV FERNANDEZ DE LA CRUZ</td>\n",
       "      <td>AVENIDA</td>\n",
       "      <td>PIEDRA BUENA AV.</td>\n",
       "      <td>FERNANDEZ DE LA CRUZ, F., GRAL. AV.</td>\n",
       "      <td>PIEDRA BUENA AV. y FERNANDEZ DE LA CRUZ, F., G...</td>\n",
       "      <td>8</td>\n",
       "      <td>Point (98896.78238426 93532.43437792)</td>\n",
       "      <td>-58.47533969</td>\n",
       "      <td>-34.68757022</td>\n",
       "      <td>MOTO-AUTO</td>\n",
       "      <td>MOTO</td>\n",
       "      <td>AUTO</td>\n",
       "    </tr>\n",
       "    <tr>\n",
       "      <th>1</th>\n",
       "      <td>2016-0002</td>\n",
       "      <td>1</td>\n",
       "      <td>2016-01-02</td>\n",
       "      <td>2016</td>\n",
       "      <td>1</td>\n",
       "      <td>2</td>\n",
       "      <td>01:15:00</td>\n",
       "      <td>1</td>\n",
       "      <td>AV GRAL PAZ  Y AV DE LOS CORRALES</td>\n",
       "      <td>GRAL PAZ</td>\n",
       "      <td>PAZ, GRAL. AV.</td>\n",
       "      <td>DE LOS CORRALES AV.</td>\n",
       "      <td>PAZ, GRAL. AV. y DE LOS CORRALES AV.</td>\n",
       "      <td>9</td>\n",
       "      <td>Point (95832.05571093 95505.41641999)</td>\n",
       "      <td>-58.50877521</td>\n",
       "      <td>-34.66977709</td>\n",
       "      <td>AUTO-PASAJEROS</td>\n",
       "      <td>AUTO</td>\n",
       "      <td>PASAJEROS</td>\n",
       "    </tr>\n",
       "    <tr>\n",
       "      <th>2</th>\n",
       "      <td>2016-0003</td>\n",
       "      <td>1</td>\n",
       "      <td>2016-01-03</td>\n",
       "      <td>2016</td>\n",
       "      <td>1</td>\n",
       "      <td>3</td>\n",
       "      <td>07:00:00</td>\n",
       "      <td>7</td>\n",
       "      <td>AV ENTRE RIOS 2034</td>\n",
       "      <td>AVENIDA</td>\n",
       "      <td>ENTRE RIOS AV.</td>\n",
       "      <td>NaN</td>\n",
       "      <td>ENTRE RIOS AV. 2034</td>\n",
       "      <td>1</td>\n",
       "      <td>Point (106684.29090040 99706.57687843)</td>\n",
       "      <td>-58.39040293</td>\n",
       "      <td>-34.63189362</td>\n",
       "      <td>MOTO-AUTO</td>\n",
       "      <td>MOTO</td>\n",
       "      <td>AUTO</td>\n",
       "    </tr>\n",
       "  </tbody>\n",
       "</table>\n",
       "</div>"
      ],
      "text/plain": [
       "          ID  N_VICTIMAS      FECHA  AAAA  MM  DD      HORA HH  \\\n",
       "0  2016-0001           1 2016-01-01  2016   1   1  04:00:00  4   \n",
       "1  2016-0002           1 2016-01-02  2016   1   2  01:15:00  1   \n",
       "2  2016-0003           1 2016-01-03  2016   1   3  07:00:00  7   \n",
       "\n",
       "                             LUGAR_DEL_HECHO TIPO_DE_CALLE             Calle  \\\n",
       "0  AV PIEDRA BUENA Y AV FERNANDEZ DE LA CRUZ       AVENIDA  PIEDRA BUENA AV.   \n",
       "1          AV GRAL PAZ  Y AV DE LOS CORRALES      GRAL PAZ    PAZ, GRAL. AV.   \n",
       "2                         AV ENTRE RIOS 2034       AVENIDA    ENTRE RIOS AV.   \n",
       "\n",
       "                                 Cruce  \\\n",
       "0  FERNANDEZ DE LA CRUZ, F., GRAL. AV.   \n",
       "1                  DE LOS CORRALES AV.   \n",
       "2                                  NaN   \n",
       "\n",
       "                               Dirección Normalizada  COMUNA  \\\n",
       "0  PIEDRA BUENA AV. y FERNANDEZ DE LA CRUZ, F., G...       8   \n",
       "1               PAZ, GRAL. AV. y DE LOS CORRALES AV.       9   \n",
       "2                                ENTRE RIOS AV. 2034       1   \n",
       "\n",
       "                                XY (CABA)         pos x         pos y  \\\n",
       "0   Point (98896.78238426 93532.43437792)  -58.47533969  -34.68757022   \n",
       "1   Point (95832.05571093 95505.41641999)  -58.50877521  -34.66977709   \n",
       "2  Point (106684.29090040 99706.57687843)  -58.39040293  -34.63189362   \n",
       "\n",
       "    PARTICIPANTES VICTIMA    ACUSADO  \n",
       "0       MOTO-AUTO    MOTO       AUTO  \n",
       "1  AUTO-PASAJEROS    AUTO  PASAJEROS  \n",
       "2       MOTO-AUTO    MOTO       AUTO  "
      ]
     },
     "execution_count": 9,
     "metadata": {},
     "output_type": "execute_result"
    }
   ],
   "source": [
    "df_hechos.head(3)"
   ]
  },
  {
   "cell_type": "markdown",
   "metadata": {},
   "source": [
    "La otra columna que posee una gran cantidad de valores nulos es \"Cruce\". Vamos a analizarla para ver la viabilidad de una imputacion de datos"
   ]
  },
  {
   "cell_type": "code",
   "execution_count": 10,
   "metadata": {},
   "outputs": [
    {
     "data": {
      "text/plain": [
       "Cruce\n",
       "PAZ, GRAL. AV.              14\n",
       "ESCALADA AV.                 9\n",
       "RIVADAVIA AV.                8\n",
       "INDEPENDENCIA AV.            7\n",
       "BALBIN, RICARDO, DR. AV.     6\n",
       "                            ..\n",
       "LA RIOJA                     1\n",
       "TRAFUL                       1\n",
       "HUMAITA                      1\n",
       "MANZANARES                   1\n",
       "HUGO, VICTOR                 1\n",
       "Name: count, Length: 317, dtype: int64"
      ]
     },
     "execution_count": 10,
     "metadata": {},
     "output_type": "execute_result"
    }
   ],
   "source": [
    "df_hechos[\"Cruce\"].value_counts()"
   ]
  },
  {
   "cell_type": "markdown",
   "metadata": {},
   "source": [
    "Veremos los valores que son nulos en estas tres columnas. Ya que de ser asi, no poseen informacion util para nosotros"
   ]
  },
  {
   "cell_type": "code",
   "execution_count": 11,
   "metadata": {},
   "outputs": [
    {
     "name": "stdout",
     "output_type": "stream",
     "text": [
      "            ID  N_VICTIMAS      FECHA  AAAA  MM  DD      HORA  HH  \\\n",
      "2    2016-0003           1 2016-01-03  2016   1   3  07:00:00   7   \n",
      "9    2016-0013           1 2016-02-10  2016   2  10  11:30:00  11   \n",
      "14   2016-0020           1 2016-02-17  2016   2  17  16:00:00  16   \n",
      "33   2016-0047           1 2016-04-15  2016   4  15  05:30:00   5   \n",
      "35   2016-0049           1 2016-04-17  2016   4  17  00:00:00   0   \n",
      "..         ...         ...        ...   ...  ..  ..       ...  ..   \n",
      "680  2021-0082           1 2021-11-06  2021  11   6  04:39:00   4   \n",
      "685  2021-0087           1 2021-11-27  2021  11  27  11:22:00  11   \n",
      "687  2021-0089           1 2021-12-02  2021  12   2  01:10:00   1   \n",
      "694  2021-0096           1 2021-12-15  2021  12  15  10:30:00  10   \n",
      "695  2021-0097           1 2021-11-18  2021  11  18  06:10:00   6   \n",
      "\n",
      "                                       LUGAR_DEL_HECHO TIPO_DE_CALLE  \\\n",
      "2                                   AV ENTRE RIOS 2034       AVENIDA   \n",
      "9                                   AV ENTRE RIOS 1366       AVENIDA   \n",
      "14                                        SUIPACHA 156         CALLE   \n",
      "33                                           LIMA 1483         CALLE   \n",
      "35   AUTOPISTA 1 SUR PRESIDENTE ARTURO FRONDIZI KM....     AUTOPISTA   \n",
      "..                                                 ...           ...   \n",
      "680                   AU 25 DE MAYO KM7 (ALTURA PASCO)     AUTOPISTA   \n",
      "685                                     ESMERALDA 1359         CALLE   \n",
      "687                                     AV. GAONA 3655       AVENIDA   \n",
      "694                                 AV. EVA PERON 4071       AVENIDA   \n",
      "695                            PADRE CARLOS MUJICA 709         CALLE   \n",
      "\n",
      "                                          Calle Cruce  \\\n",
      "2                                ENTRE RIOS AV.   NaN   \n",
      "9                                ENTRE RIOS AV.   NaN   \n",
      "14                                     SUIPACHA   NaN   \n",
      "33                                         LIMA   NaN   \n",
      "35   AUTOPISTA 1 SUR PRESIDENTE ARTURO FRONDIZI   NaN   \n",
      "..                                          ...   ...   \n",
      "680                        AUTOPISTA 25 DE MAYO   NaN   \n",
      "685                                   ESMERALDA   NaN   \n",
      "687                                   GAONA AV.   NaN   \n",
      "694                              PERON, EVA AV.   NaN   \n",
      "695                         PADRE CARLOS MUJICA   NaN   \n",
      "\n",
      "                          Dirección Normalizada  COMUNA  \\\n",
      "2                           ENTRE RIOS AV. 2034       1   \n",
      "9                           ENTRE RIOS AV. 1366       1   \n",
      "14                                 SUIPACHA 156       1   \n",
      "33                                    LIMA 1483       1   \n",
      "35   AUTOPISTA 1 SUR PRESIDENTE ARTURO FRONDIZI       4   \n",
      "..                                          ...     ...   \n",
      "680                AUTOPISTA 25 DE MAYO y PASCO       3   \n",
      "685                              ESMERALDA 1359       1   \n",
      "687                              GAONA AV. 3655      11   \n",
      "694                         PERON, EVA AV. 4071       9   \n",
      "695                     PADRE CARLOS MUGICA 709       1   \n",
      "\n",
      "                                   XY (CABA)               pos x  \\\n",
      "2     Point (106684.29090040 99706.57687843)        -58.39040293   \n",
      "9    Point (106616.41069662 100496.44662323)        -58.39114932   \n",
      "14   Point (107684.31807562 102519.17333314)        -58.37952223   \n",
      "33   Point (107412.19098904 100391.02557777)        -58.38247061   \n",
      "35                               Point (. .)  -58.37714647568196   \n",
      "..                                       ...                 ...   \n",
      "680  Point (106179.07517962 100523.29161457)        -58.39591856   \n",
      "685  Point (107829.16426745 104166.84427133)        -58.37795815   \n",
      "687   Point (98804.41713890 100872.30706871)        -58.47633683   \n",
      "694    Point (99324.54463985 97676.26932409)        -58.47066794   \n",
      "695  Point (107664.16647795 104708.63962087)        -58.37976155   \n",
      "\n",
      "                  pos y     PARTICIPANTES    VICTIMA    ACUSADO  \n",
      "2          -34.63189362         MOTO-AUTO       MOTO       AUTO  \n",
      "9          -34.62477387       PEATON-AUTO     PEATON       AUTO  \n",
      "14         -34.60653282       PEATON-AUTO     PEATON       AUTO  \n",
      "33         -34.62571878  PEATON-PASAJEROS     PEATON  PASAJEROS  \n",
      "35   -34.63657525428238             SD-SD         SD         SD  \n",
      "..                  ...               ...        ...        ...  \n",
      "680        -34.62453459         MOTO-AUTO       MOTO       AUTO  \n",
      "685        -34.59167894  PEATON-BICICLETA     PEATON  BICICLETA  \n",
      "687        -34.62140594         MOTO-AUTO       MOTO       AUTO  \n",
      "694        -34.65021673       AUTO-CARGAS       AUTO     CARGAS  \n",
      "695        -34.58679619    BICICLETA-AUTO  BICICLETA       AUTO  \n",
      "\n",
      "[171 rows x 20 columns]\n",
      "171\n"
     ]
    }
   ],
   "source": [
    "\n",
    "filas_nulas = df_hechos[df_hechos[[\"Calle\", \"Cruce\", \"Dirección Normalizada\"]].isnull().any(axis=1)]\n",
    "print(filas_nulas)\n",
    "print(len(filas_nulas))\n",
    "\n"
   ]
  },
  {
   "cell_type": "markdown",
   "metadata": {},
   "source": [
    "Son varias columnas, por lo tanto no se eliminarán ya que pueden llevar a obtener conclusiones relevantes\n"
   ]
  },
  {
   "cell_type": "markdown",
   "metadata": {},
   "source": [
    "Ahora, se normalizarán los nombres de las columnas para que su esteticidad sea mas profesional\n"
   ]
  },
  {
   "cell_type": "code",
   "execution_count": 12,
   "metadata": {},
   "outputs": [
    {
     "data": {
      "text/html": [
       "<div>\n",
       "<style scoped>\n",
       "    .dataframe tbody tr th:only-of-type {\n",
       "        vertical-align: middle;\n",
       "    }\n",
       "\n",
       "    .dataframe tbody tr th {\n",
       "        vertical-align: top;\n",
       "    }\n",
       "\n",
       "    .dataframe thead th {\n",
       "        text-align: right;\n",
       "    }\n",
       "</style>\n",
       "<table border=\"1\" class=\"dataframe\">\n",
       "  <thead>\n",
       "    <tr style=\"text-align: right;\">\n",
       "      <th></th>\n",
       "      <th>Id</th>\n",
       "      <th>N_Victimas</th>\n",
       "      <th>Fecha</th>\n",
       "      <th>Aaaa</th>\n",
       "      <th>Mm</th>\n",
       "      <th>Dd</th>\n",
       "      <th>Hora</th>\n",
       "      <th>Hh</th>\n",
       "      <th>Lugar_Del_Hecho</th>\n",
       "      <th>Tipo_De_Calle</th>\n",
       "      <th>Calle</th>\n",
       "      <th>Cruce</th>\n",
       "      <th>Dirección Normalizada</th>\n",
       "      <th>Comuna</th>\n",
       "      <th>Xy (Caba)</th>\n",
       "      <th>Pos X</th>\n",
       "      <th>Pos Y</th>\n",
       "      <th>Participantes</th>\n",
       "      <th>Victima</th>\n",
       "      <th>Acusado</th>\n",
       "    </tr>\n",
       "  </thead>\n",
       "  <tbody>\n",
       "    <tr>\n",
       "      <th>0</th>\n",
       "      <td>2016-0001</td>\n",
       "      <td>1</td>\n",
       "      <td>2016-01-01</td>\n",
       "      <td>2016</td>\n",
       "      <td>1</td>\n",
       "      <td>1</td>\n",
       "      <td>04:00:00</td>\n",
       "      <td>4</td>\n",
       "      <td>AV PIEDRA BUENA Y AV FERNANDEZ DE LA CRUZ</td>\n",
       "      <td>AVENIDA</td>\n",
       "      <td>PIEDRA BUENA AV.</td>\n",
       "      <td>FERNANDEZ DE LA CRUZ, F., GRAL. AV.</td>\n",
       "      <td>PIEDRA BUENA AV. y FERNANDEZ DE LA CRUZ, F., G...</td>\n",
       "      <td>8</td>\n",
       "      <td>Point (98896.78238426 93532.43437792)</td>\n",
       "      <td>-58.47533969</td>\n",
       "      <td>-34.68757022</td>\n",
       "      <td>MOTO-AUTO</td>\n",
       "      <td>MOTO</td>\n",
       "      <td>AUTO</td>\n",
       "    </tr>\n",
       "    <tr>\n",
       "      <th>1</th>\n",
       "      <td>2016-0002</td>\n",
       "      <td>1</td>\n",
       "      <td>2016-01-02</td>\n",
       "      <td>2016</td>\n",
       "      <td>1</td>\n",
       "      <td>2</td>\n",
       "      <td>01:15:00</td>\n",
       "      <td>1</td>\n",
       "      <td>AV GRAL PAZ  Y AV DE LOS CORRALES</td>\n",
       "      <td>GRAL PAZ</td>\n",
       "      <td>PAZ, GRAL. AV.</td>\n",
       "      <td>DE LOS CORRALES AV.</td>\n",
       "      <td>PAZ, GRAL. AV. y DE LOS CORRALES AV.</td>\n",
       "      <td>9</td>\n",
       "      <td>Point (95832.05571093 95505.41641999)</td>\n",
       "      <td>-58.50877521</td>\n",
       "      <td>-34.66977709</td>\n",
       "      <td>AUTO-PASAJEROS</td>\n",
       "      <td>AUTO</td>\n",
       "      <td>PASAJEROS</td>\n",
       "    </tr>\n",
       "    <tr>\n",
       "      <th>2</th>\n",
       "      <td>2016-0003</td>\n",
       "      <td>1</td>\n",
       "      <td>2016-01-03</td>\n",
       "      <td>2016</td>\n",
       "      <td>1</td>\n",
       "      <td>3</td>\n",
       "      <td>07:00:00</td>\n",
       "      <td>7</td>\n",
       "      <td>AV ENTRE RIOS 2034</td>\n",
       "      <td>AVENIDA</td>\n",
       "      <td>ENTRE RIOS AV.</td>\n",
       "      <td>NaN</td>\n",
       "      <td>ENTRE RIOS AV. 2034</td>\n",
       "      <td>1</td>\n",
       "      <td>Point (106684.29090040 99706.57687843)</td>\n",
       "      <td>-58.39040293</td>\n",
       "      <td>-34.63189362</td>\n",
       "      <td>MOTO-AUTO</td>\n",
       "      <td>MOTO</td>\n",
       "      <td>AUTO</td>\n",
       "    </tr>\n",
       "    <tr>\n",
       "      <th>3</th>\n",
       "      <td>2016-0004</td>\n",
       "      <td>1</td>\n",
       "      <td>2016-01-10</td>\n",
       "      <td>2016</td>\n",
       "      <td>1</td>\n",
       "      <td>10</td>\n",
       "      <td>00:00:00</td>\n",
       "      <td>0</td>\n",
       "      <td>AV LARRAZABAL Y GRAL VILLEGAS CONRADO</td>\n",
       "      <td>AVENIDA</td>\n",
       "      <td>LARRAZABAL AV.</td>\n",
       "      <td>VILLEGAS, CONRADO, GRAL.</td>\n",
       "      <td>LARRAZABAL AV. y VILLEGAS, CONRADO, GRAL.</td>\n",
       "      <td>8</td>\n",
       "      <td>Point (99840.65224780 94269.16534422)</td>\n",
       "      <td>-58.46503904</td>\n",
       "      <td>-34.68092974</td>\n",
       "      <td>MOTO-SD</td>\n",
       "      <td>MOTO</td>\n",
       "      <td>SD</td>\n",
       "    </tr>\n",
       "    <tr>\n",
       "      <th>4</th>\n",
       "      <td>2016-0005</td>\n",
       "      <td>1</td>\n",
       "      <td>2016-01-21</td>\n",
       "      <td>2016</td>\n",
       "      <td>1</td>\n",
       "      <td>21</td>\n",
       "      <td>05:20:00</td>\n",
       "      <td>5</td>\n",
       "      <td>AV SAN JUAN Y PRESIDENTE LUIS SAENZ PEÑA</td>\n",
       "      <td>AVENIDA</td>\n",
       "      <td>SAN JUAN AV.</td>\n",
       "      <td>SAENZ PE?A, LUIS, PRES.</td>\n",
       "      <td>SAN JUAN AV. y SAENZ PEÃ‘A, LUIS, PRES.</td>\n",
       "      <td>1</td>\n",
       "      <td>Point (106980.32827929 100752.16915795)</td>\n",
       "      <td>-58.38718297</td>\n",
       "      <td>-34.62246630</td>\n",
       "      <td>MOTO-PASAJEROS</td>\n",
       "      <td>MOTO</td>\n",
       "      <td>PASAJEROS</td>\n",
       "    </tr>\n",
       "  </tbody>\n",
       "</table>\n",
       "</div>"
      ],
      "text/plain": [
       "          Id  N_Victimas      Fecha  Aaaa  Mm  Dd      Hora Hh  \\\n",
       "0  2016-0001           1 2016-01-01  2016   1   1  04:00:00  4   \n",
       "1  2016-0002           1 2016-01-02  2016   1   2  01:15:00  1   \n",
       "2  2016-0003           1 2016-01-03  2016   1   3  07:00:00  7   \n",
       "3  2016-0004           1 2016-01-10  2016   1  10  00:00:00  0   \n",
       "4  2016-0005           1 2016-01-21  2016   1  21  05:20:00  5   \n",
       "\n",
       "                             Lugar_Del_Hecho Tipo_De_Calle             Calle  \\\n",
       "0  AV PIEDRA BUENA Y AV FERNANDEZ DE LA CRUZ       AVENIDA  PIEDRA BUENA AV.   \n",
       "1          AV GRAL PAZ  Y AV DE LOS CORRALES      GRAL PAZ    PAZ, GRAL. AV.   \n",
       "2                         AV ENTRE RIOS 2034       AVENIDA    ENTRE RIOS AV.   \n",
       "3      AV LARRAZABAL Y GRAL VILLEGAS CONRADO       AVENIDA    LARRAZABAL AV.   \n",
       "4  AV SAN JUAN Y PRESIDENTE LUIS SAENZ PEÑA        AVENIDA      SAN JUAN AV.   \n",
       "\n",
       "                                 Cruce  \\\n",
       "0  FERNANDEZ DE LA CRUZ, F., GRAL. AV.   \n",
       "1                  DE LOS CORRALES AV.   \n",
       "2                                  NaN   \n",
       "3             VILLEGAS, CONRADO, GRAL.   \n",
       "4              SAENZ PE?A, LUIS, PRES.   \n",
       "\n",
       "                               Dirección Normalizada  Comuna  \\\n",
       "0  PIEDRA BUENA AV. y FERNANDEZ DE LA CRUZ, F., G...       8   \n",
       "1               PAZ, GRAL. AV. y DE LOS CORRALES AV.       9   \n",
       "2                                ENTRE RIOS AV. 2034       1   \n",
       "3          LARRAZABAL AV. y VILLEGAS, CONRADO, GRAL.       8   \n",
       "4            SAN JUAN AV. y SAENZ PEÃ‘A, LUIS, PRES.       1   \n",
       "\n",
       "                                 Xy (Caba)         Pos X         Pos Y  \\\n",
       "0    Point (98896.78238426 93532.43437792)  -58.47533969  -34.68757022   \n",
       "1    Point (95832.05571093 95505.41641999)  -58.50877521  -34.66977709   \n",
       "2   Point (106684.29090040 99706.57687843)  -58.39040293  -34.63189362   \n",
       "3    Point (99840.65224780 94269.16534422)  -58.46503904  -34.68092974   \n",
       "4  Point (106980.32827929 100752.16915795)  -58.38718297  -34.62246630   \n",
       "\n",
       "    Participantes Victima    Acusado  \n",
       "0       MOTO-AUTO    MOTO       AUTO  \n",
       "1  AUTO-PASAJEROS    AUTO  PASAJEROS  \n",
       "2       MOTO-AUTO    MOTO       AUTO  \n",
       "3         MOTO-SD    MOTO         SD  \n",
       "4  MOTO-PASAJEROS    MOTO  PASAJEROS  "
      ]
     },
     "execution_count": 12,
     "metadata": {},
     "output_type": "execute_result"
    }
   ],
   "source": [
    "df_hechos.columns = df_hechos.columns.str.title()\n",
    "df_hechos.head(5)"
   ]
  },
  {
   "cell_type": "markdown",
   "metadata": {},
   "source": [
    "Procederemos a ver duplicados de la columna Id"
   ]
  },
  {
   "cell_type": "code",
   "execution_count": 13,
   "metadata": {},
   "outputs": [
    {
     "data": {
      "text/plain": [
       "Id\n",
       "2016-0001    1\n",
       "2019-0050    1\n",
       "2019-0042    1\n",
       "2019-0043    1\n",
       "2019-0044    1\n",
       "            ..\n",
       "2017-0111    1\n",
       "2017-0112    1\n",
       "2017-0113    1\n",
       "2017-0114    1\n",
       "2021-0097    1\n",
       "Name: count, Length: 696, dtype: int64"
      ]
     },
     "execution_count": 13,
     "metadata": {},
     "output_type": "execute_result"
    }
   ],
   "source": [
    "df_hechos[\"Id\"].value_counts() # No hay valores duplicados"
   ]
  },
  {
   "cell_type": "code",
   "execution_count": 14,
   "metadata": {},
   "outputs": [
    {
     "name": "stdout",
     "output_type": "stream",
     "text": [
      "0\n"
     ]
    }
   ],
   "source": [
    "id_dup = df_hechos[df_hechos.duplicated(subset=[\"Id\"])] # Rectificamos con otra alternativa\n",
    "print(len(id_dup))"
   ]
  },
  {
   "cell_type": "code",
   "execution_count": 15,
   "metadata": {},
   "outputs": [
    {
     "data": {
      "text/plain": [
       "Hh\n",
       "7     41\n",
       "6     40\n",
       "9     36\n",
       "5     35\n",
       "14    33\n",
       "12    32\n",
       "8     31\n",
       "18    31\n",
       "10    31\n",
       "16    30\n",
       "19    30\n",
       "17    30\n",
       "22    30\n",
       "21    29\n",
       "23    28\n",
       "11    27\n",
       "3     26\n",
       "20    26\n",
       "15    25\n",
       "1     24\n",
       "4     23\n",
       "0     23\n",
       "2     17\n",
       "13    17\n",
       "SD     1\n",
       "Name: count, dtype: int64"
      ]
     },
     "execution_count": 15,
     "metadata": {},
     "output_type": "execute_result"
    }
   ],
   "source": [
    "# Procederemos a analizar la columna Hh\n",
    "df_hechos[\"Hh\"].value_counts()\n",
    "# Segun el diccionario de datos esta columna se refiere a \"Franja horaria entera\". Se refiere a la hora en la cual el incidente tuvo lugar\n",
    "# Por lo tanto deberia tener solamente valores numericos. Sin embargo, se identifica un valor \"SD\". El cual se refiere a \"Sin Dato\"\n",
    "# Por lo tanto debemos analizar como trabajar este dato."
   ]
  },
  {
   "cell_type": "code",
   "execution_count": 16,
   "metadata": {},
   "outputs": [],
   "source": [
    "# Transformaremos SD a valor nulo o NaN\n",
    "df_hechos.replace(['SD'], np.nan, inplace=True)\n",
    "df_hechos = df_hechos.infer_objects(copy=False) # para evitar warnings"
   ]
  },
  {
   "cell_type": "markdown",
   "metadata": {},
   "source": [
    "Seguimos trabajando en esta columna. Siguiendo el contexto esta columna deberia ser numerica. Pero, debido a que habia un dato \"SD\" pueda que esto no sea asi. Asi que, se procederá a chequearlas.\n"
   ]
  },
  {
   "cell_type": "code",
   "execution_count": 17,
   "metadata": {},
   "outputs": [
    {
     "name": "stdout",
     "output_type": "stream",
     "text": [
      "float64\n"
     ]
    }
   ],
   "source": [
    "print(df_hechos[\"Hh\"].dtype)"
   ]
  },
  {
   "cell_type": "markdown",
   "metadata": {},
   "source": [
    "Se procedera a cambiarlos a valor entero"
   ]
  },
  {
   "cell_type": "code",
   "execution_count": 18,
   "metadata": {},
   "outputs": [],
   "source": [
    "df_hechos[\"Hh\"] = df_hechos[\"Hh\"].astype(\"Int64\") "
   ]
  },
  {
   "cell_type": "markdown",
   "metadata": {},
   "source": [
    "Ahora, se trabajará la columna de las posiciones \"pos x\" y \"pos y\" vamos a limpiarla.\n"
   ]
  },
  {
   "cell_type": "code",
   "execution_count": 19,
   "metadata": {},
   "outputs": [],
   "source": [
    "# Hacemos una funcion para encontrar posiciones invalidas, covertirlas a nulo. O si son validas convrtirlas a float\n",
    "def validar_y_convertir(pos):\n",
    "    if pos in ['.', None] or not re.match(r'^[0-9.,-]+$', str(pos)):\n",
    "        return np.nan\n",
    "    return float(str(pos).replace(',', '.'))\n",
    "\n",
    "# Aplicar la función para validar y convertir las posiciones\n",
    "df_hechos['Pos X'] = df_hechos['Pos X'].apply(validar_y_convertir)\n",
    "df_hechos['Pos Y'] = df_hechos['Pos Y'].apply(validar_y_convertir)"
   ]
  },
  {
   "cell_type": "markdown",
   "metadata": {},
   "source": [
    "Dirigiremos nuestra atencion a la columna XY (CABA). Debemos desanidarla ya que allí se encuentran coordenadas (latitud y longitd). Vamos a separarlas"
   ]
  },
  {
   "cell_type": "code",
   "execution_count": 20,
   "metadata": {},
   "outputs": [],
   "source": [
    "# Hacemos una funcion para extraer las coordenadas con su signo\n",
    "def extraer_coordenadas_signo(texto):\n",
    "    # Expresión regular que también admite signos negativos\n",
    "    coordenadas = re.findall(r'-?\\d+\\.\\d+', texto)\n",
    "    if len(coordenadas) == 2:\n",
    "        return float(coordenadas[0]), float(coordenadas[1])\n",
    "    else:\n",
    "        return None, None"
   ]
  },
  {
   "cell_type": "code",
   "execution_count": 21,
   "metadata": {},
   "outputs": [],
   "source": [
    "df_hechos['Coordenada_x'],df_hechos['Coordenada_y'] = zip(*df_hechos['Xy (Caba)'].map(extraer_coordenadas_signo)) # Aplicamos la funcion"
   ]
  },
  {
   "cell_type": "code",
   "execution_count": 22,
   "metadata": {},
   "outputs": [],
   "source": [
    "df_hechos[[\"Coordenada_x\", \"Coordenada_y\"]] = df_hechos[[\"Coordenada_x\", \"Coordenada_y\"]].dropna() # Eliminamos nulos\n"
   ]
  },
  {
   "cell_type": "code",
   "execution_count": 23,
   "metadata": {},
   "outputs": [
    {
     "data": {
      "text/html": [
       "<div>\n",
       "<style scoped>\n",
       "    .dataframe tbody tr th:only-of-type {\n",
       "        vertical-align: middle;\n",
       "    }\n",
       "\n",
       "    .dataframe tbody tr th {\n",
       "        vertical-align: top;\n",
       "    }\n",
       "\n",
       "    .dataframe thead th {\n",
       "        text-align: right;\n",
       "    }\n",
       "</style>\n",
       "<table border=\"1\" class=\"dataframe\">\n",
       "  <thead>\n",
       "    <tr style=\"text-align: right;\">\n",
       "      <th></th>\n",
       "      <th>Id</th>\n",
       "      <th>N_Victimas</th>\n",
       "      <th>Fecha</th>\n",
       "      <th>Aaaa</th>\n",
       "      <th>Mm</th>\n",
       "      <th>Dd</th>\n",
       "      <th>Hora</th>\n",
       "      <th>Hh</th>\n",
       "      <th>Lugar_Del_Hecho</th>\n",
       "      <th>Tipo_De_Calle</th>\n",
       "      <th>...</th>\n",
       "      <th>Dirección Normalizada</th>\n",
       "      <th>Comuna</th>\n",
       "      <th>Xy (Caba)</th>\n",
       "      <th>Pos X</th>\n",
       "      <th>Pos Y</th>\n",
       "      <th>Participantes</th>\n",
       "      <th>Victima</th>\n",
       "      <th>Acusado</th>\n",
       "      <th>Coordenada_x</th>\n",
       "      <th>Coordenada_y</th>\n",
       "    </tr>\n",
       "  </thead>\n",
       "  <tbody>\n",
       "    <tr>\n",
       "      <th>0</th>\n",
       "      <td>2016-0001</td>\n",
       "      <td>1</td>\n",
       "      <td>2016-01-01</td>\n",
       "      <td>2016</td>\n",
       "      <td>1</td>\n",
       "      <td>1</td>\n",
       "      <td>04:00:00</td>\n",
       "      <td>4</td>\n",
       "      <td>AV PIEDRA BUENA Y AV FERNANDEZ DE LA CRUZ</td>\n",
       "      <td>AVENIDA</td>\n",
       "      <td>...</td>\n",
       "      <td>PIEDRA BUENA AV. y FERNANDEZ DE LA CRUZ, F., G...</td>\n",
       "      <td>8</td>\n",
       "      <td>Point (98896.78238426 93532.43437792)</td>\n",
       "      <td>-58.475340</td>\n",
       "      <td>-34.687570</td>\n",
       "      <td>MOTO-AUTO</td>\n",
       "      <td>MOTO</td>\n",
       "      <td>AUTO</td>\n",
       "      <td>98896.782384</td>\n",
       "      <td>93532.434378</td>\n",
       "    </tr>\n",
       "    <tr>\n",
       "      <th>1</th>\n",
       "      <td>2016-0002</td>\n",
       "      <td>1</td>\n",
       "      <td>2016-01-02</td>\n",
       "      <td>2016</td>\n",
       "      <td>1</td>\n",
       "      <td>2</td>\n",
       "      <td>01:15:00</td>\n",
       "      <td>1</td>\n",
       "      <td>AV GRAL PAZ  Y AV DE LOS CORRALES</td>\n",
       "      <td>GRAL PAZ</td>\n",
       "      <td>...</td>\n",
       "      <td>PAZ, GRAL. AV. y DE LOS CORRALES AV.</td>\n",
       "      <td>9</td>\n",
       "      <td>Point (95832.05571093 95505.41641999)</td>\n",
       "      <td>-58.508775</td>\n",
       "      <td>-34.669777</td>\n",
       "      <td>AUTO-PASAJEROS</td>\n",
       "      <td>AUTO</td>\n",
       "      <td>PASAJEROS</td>\n",
       "      <td>95832.055711</td>\n",
       "      <td>95505.416420</td>\n",
       "    </tr>\n",
       "  </tbody>\n",
       "</table>\n",
       "<p>2 rows × 22 columns</p>\n",
       "</div>"
      ],
      "text/plain": [
       "          Id  N_Victimas      Fecha  Aaaa  Mm  Dd      Hora  Hh  \\\n",
       "0  2016-0001           1 2016-01-01  2016   1   1  04:00:00   4   \n",
       "1  2016-0002           1 2016-01-02  2016   1   2  01:15:00   1   \n",
       "\n",
       "                             Lugar_Del_Hecho Tipo_De_Calle  ...  \\\n",
       "0  AV PIEDRA BUENA Y AV FERNANDEZ DE LA CRUZ       AVENIDA  ...   \n",
       "1          AV GRAL PAZ  Y AV DE LOS CORRALES      GRAL PAZ  ...   \n",
       "\n",
       "                               Dirección Normalizada Comuna  \\\n",
       "0  PIEDRA BUENA AV. y FERNANDEZ DE LA CRUZ, F., G...      8   \n",
       "1               PAZ, GRAL. AV. y DE LOS CORRALES AV.      9   \n",
       "\n",
       "                               Xy (Caba)      Pos X      Pos Y  \\\n",
       "0  Point (98896.78238426 93532.43437792) -58.475340 -34.687570   \n",
       "1  Point (95832.05571093 95505.41641999) -58.508775 -34.669777   \n",
       "\n",
       "    Participantes  Victima    Acusado  Coordenada_x  Coordenada_y  \n",
       "0       MOTO-AUTO     MOTO       AUTO  98896.782384  93532.434378  \n",
       "1  AUTO-PASAJEROS     AUTO  PASAJEROS  95832.055711  95505.416420  \n",
       "\n",
       "[2 rows x 22 columns]"
      ]
     },
     "execution_count": 23,
     "metadata": {},
     "output_type": "execute_result"
    }
   ],
   "source": [
    "df_hechos.head(2)"
   ]
  },
  {
   "cell_type": "markdown",
   "metadata": {},
   "source": [
    "Procederemos con la columna de \"Día\". Ya que estan con digitos vamos a cambiarla por el nombre del día."
   ]
  },
  {
   "cell_type": "code",
   "execution_count": 24,
   "metadata": {},
   "outputs": [],
   "source": [
    "df_hechos['Nombre_Día'] = df_hechos['Fecha'].dt.day_name(locale='es')\n",
    "\n",
    "\n"
   ]
  },
  {
   "cell_type": "code",
   "execution_count": 25,
   "metadata": {},
   "outputs": [
    {
     "data": {
      "text/html": [
       "<div>\n",
       "<style scoped>\n",
       "    .dataframe tbody tr th:only-of-type {\n",
       "        vertical-align: middle;\n",
       "    }\n",
       "\n",
       "    .dataframe tbody tr th {\n",
       "        vertical-align: top;\n",
       "    }\n",
       "\n",
       "    .dataframe thead th {\n",
       "        text-align: right;\n",
       "    }\n",
       "</style>\n",
       "<table border=\"1\" class=\"dataframe\">\n",
       "  <thead>\n",
       "    <tr style=\"text-align: right;\">\n",
       "      <th></th>\n",
       "      <th>Id</th>\n",
       "      <th>N_Victimas</th>\n",
       "      <th>Fecha</th>\n",
       "      <th>Aaaa</th>\n",
       "      <th>Mm</th>\n",
       "      <th>Dd</th>\n",
       "      <th>Hora</th>\n",
       "      <th>Hh</th>\n",
       "      <th>Lugar_Del_Hecho</th>\n",
       "      <th>Tipo_De_Calle</th>\n",
       "      <th>...</th>\n",
       "      <th>Comuna</th>\n",
       "      <th>Xy (Caba)</th>\n",
       "      <th>Pos X</th>\n",
       "      <th>Pos Y</th>\n",
       "      <th>Participantes</th>\n",
       "      <th>Victima</th>\n",
       "      <th>Acusado</th>\n",
       "      <th>Coordenada_x</th>\n",
       "      <th>Coordenada_y</th>\n",
       "      <th>Nombre_Día</th>\n",
       "    </tr>\n",
       "  </thead>\n",
       "  <tbody>\n",
       "    <tr>\n",
       "      <th>0</th>\n",
       "      <td>2016-0001</td>\n",
       "      <td>1</td>\n",
       "      <td>2016-01-01</td>\n",
       "      <td>2016</td>\n",
       "      <td>1</td>\n",
       "      <td>1</td>\n",
       "      <td>04:00:00</td>\n",
       "      <td>4</td>\n",
       "      <td>AV PIEDRA BUENA Y AV FERNANDEZ DE LA CRUZ</td>\n",
       "      <td>AVENIDA</td>\n",
       "      <td>...</td>\n",
       "      <td>8</td>\n",
       "      <td>Point (98896.78238426 93532.43437792)</td>\n",
       "      <td>-58.475340</td>\n",
       "      <td>-34.687570</td>\n",
       "      <td>MOTO-AUTO</td>\n",
       "      <td>MOTO</td>\n",
       "      <td>AUTO</td>\n",
       "      <td>98896.782384</td>\n",
       "      <td>93532.434378</td>\n",
       "      <td>Viernes</td>\n",
       "    </tr>\n",
       "    <tr>\n",
       "      <th>1</th>\n",
       "      <td>2016-0002</td>\n",
       "      <td>1</td>\n",
       "      <td>2016-01-02</td>\n",
       "      <td>2016</td>\n",
       "      <td>1</td>\n",
       "      <td>2</td>\n",
       "      <td>01:15:00</td>\n",
       "      <td>1</td>\n",
       "      <td>AV GRAL PAZ  Y AV DE LOS CORRALES</td>\n",
       "      <td>GRAL PAZ</td>\n",
       "      <td>...</td>\n",
       "      <td>9</td>\n",
       "      <td>Point (95832.05571093 95505.41641999)</td>\n",
       "      <td>-58.508775</td>\n",
       "      <td>-34.669777</td>\n",
       "      <td>AUTO-PASAJEROS</td>\n",
       "      <td>AUTO</td>\n",
       "      <td>PASAJEROS</td>\n",
       "      <td>95832.055711</td>\n",
       "      <td>95505.416420</td>\n",
       "      <td>Sábado</td>\n",
       "    </tr>\n",
       "    <tr>\n",
       "      <th>2</th>\n",
       "      <td>2016-0003</td>\n",
       "      <td>1</td>\n",
       "      <td>2016-01-03</td>\n",
       "      <td>2016</td>\n",
       "      <td>1</td>\n",
       "      <td>3</td>\n",
       "      <td>07:00:00</td>\n",
       "      <td>7</td>\n",
       "      <td>AV ENTRE RIOS 2034</td>\n",
       "      <td>AVENIDA</td>\n",
       "      <td>...</td>\n",
       "      <td>1</td>\n",
       "      <td>Point (106684.29090040 99706.57687843)</td>\n",
       "      <td>-58.390403</td>\n",
       "      <td>-34.631894</td>\n",
       "      <td>MOTO-AUTO</td>\n",
       "      <td>MOTO</td>\n",
       "      <td>AUTO</td>\n",
       "      <td>106684.290900</td>\n",
       "      <td>99706.576878</td>\n",
       "      <td>Domingo</td>\n",
       "    </tr>\n",
       "    <tr>\n",
       "      <th>3</th>\n",
       "      <td>2016-0004</td>\n",
       "      <td>1</td>\n",
       "      <td>2016-01-10</td>\n",
       "      <td>2016</td>\n",
       "      <td>1</td>\n",
       "      <td>10</td>\n",
       "      <td>00:00:00</td>\n",
       "      <td>0</td>\n",
       "      <td>AV LARRAZABAL Y GRAL VILLEGAS CONRADO</td>\n",
       "      <td>AVENIDA</td>\n",
       "      <td>...</td>\n",
       "      <td>8</td>\n",
       "      <td>Point (99840.65224780 94269.16534422)</td>\n",
       "      <td>-58.465039</td>\n",
       "      <td>-34.680930</td>\n",
       "      <td>MOTO-SD</td>\n",
       "      <td>MOTO</td>\n",
       "      <td>NaN</td>\n",
       "      <td>99840.652248</td>\n",
       "      <td>94269.165344</td>\n",
       "      <td>Domingo</td>\n",
       "    </tr>\n",
       "    <tr>\n",
       "      <th>4</th>\n",
       "      <td>2016-0005</td>\n",
       "      <td>1</td>\n",
       "      <td>2016-01-21</td>\n",
       "      <td>2016</td>\n",
       "      <td>1</td>\n",
       "      <td>21</td>\n",
       "      <td>05:20:00</td>\n",
       "      <td>5</td>\n",
       "      <td>AV SAN JUAN Y PRESIDENTE LUIS SAENZ PEÑA</td>\n",
       "      <td>AVENIDA</td>\n",
       "      <td>...</td>\n",
       "      <td>1</td>\n",
       "      <td>Point (106980.32827929 100752.16915795)</td>\n",
       "      <td>-58.387183</td>\n",
       "      <td>-34.622466</td>\n",
       "      <td>MOTO-PASAJEROS</td>\n",
       "      <td>MOTO</td>\n",
       "      <td>PASAJEROS</td>\n",
       "      <td>106980.328279</td>\n",
       "      <td>100752.169158</td>\n",
       "      <td>Jueves</td>\n",
       "    </tr>\n",
       "  </tbody>\n",
       "</table>\n",
       "<p>5 rows × 23 columns</p>\n",
       "</div>"
      ],
      "text/plain": [
       "          Id  N_Victimas      Fecha  Aaaa  Mm  Dd      Hora  Hh  \\\n",
       "0  2016-0001           1 2016-01-01  2016   1   1  04:00:00   4   \n",
       "1  2016-0002           1 2016-01-02  2016   1   2  01:15:00   1   \n",
       "2  2016-0003           1 2016-01-03  2016   1   3  07:00:00   7   \n",
       "3  2016-0004           1 2016-01-10  2016   1  10  00:00:00   0   \n",
       "4  2016-0005           1 2016-01-21  2016   1  21  05:20:00   5   \n",
       "\n",
       "                             Lugar_Del_Hecho Tipo_De_Calle  ... Comuna  \\\n",
       "0  AV PIEDRA BUENA Y AV FERNANDEZ DE LA CRUZ       AVENIDA  ...      8   \n",
       "1          AV GRAL PAZ  Y AV DE LOS CORRALES      GRAL PAZ  ...      9   \n",
       "2                         AV ENTRE RIOS 2034       AVENIDA  ...      1   \n",
       "3      AV LARRAZABAL Y GRAL VILLEGAS CONRADO       AVENIDA  ...      8   \n",
       "4  AV SAN JUAN Y PRESIDENTE LUIS SAENZ PEÑA        AVENIDA  ...      1   \n",
       "\n",
       "                                 Xy (Caba)      Pos X      Pos Y  \\\n",
       "0    Point (98896.78238426 93532.43437792) -58.475340 -34.687570   \n",
       "1    Point (95832.05571093 95505.41641999) -58.508775 -34.669777   \n",
       "2   Point (106684.29090040 99706.57687843) -58.390403 -34.631894   \n",
       "3    Point (99840.65224780 94269.16534422) -58.465039 -34.680930   \n",
       "4  Point (106980.32827929 100752.16915795) -58.387183 -34.622466   \n",
       "\n",
       "    Participantes  Victima    Acusado   Coordenada_x   Coordenada_y Nombre_Día  \n",
       "0       MOTO-AUTO     MOTO       AUTO   98896.782384   93532.434378    Viernes  \n",
       "1  AUTO-PASAJEROS     AUTO  PASAJEROS   95832.055711   95505.416420     Sábado  \n",
       "2       MOTO-AUTO     MOTO       AUTO  106684.290900   99706.576878    Domingo  \n",
       "3         MOTO-SD     MOTO        NaN   99840.652248   94269.165344    Domingo  \n",
       "4  MOTO-PASAJEROS     MOTO  PASAJEROS  106980.328279  100752.169158     Jueves  \n",
       "\n",
       "[5 rows x 23 columns]"
      ]
     },
     "execution_count": 25,
     "metadata": {},
     "output_type": "execute_result"
    }
   ],
   "source": [
    "df_hechos.head(5)"
   ]
  },
  {
   "cell_type": "markdown",
   "metadata": {},
   "source": [
    "Ahora haremos lo mismo con los meses del año."
   ]
  },
  {
   "cell_type": "code",
   "execution_count": 26,
   "metadata": {},
   "outputs": [],
   "source": [
    "meses_año = {\n",
    "    1: 'Enero',\n",
    "    2: 'Febrero',\n",
    "    3: 'Marzo',\n",
    "    4: 'Abril',\n",
    "    5: 'Mayo',\n",
    "    6: 'Junio',\n",
    "    7: 'Julio',\n",
    "    8: 'Agosto',\n",
    "    9: 'Septiembre',\n",
    "    10: 'Octubre',\n",
    "    11: 'Noviembre',\n",
    "    12: 'Diciembre'\n",
    "}\n",
    "# Mapeamos para reemplazar los valores\n",
    "df_hechos[\"Mm\"] = df_hechos[\"Mm\"].map(meses_año)"
   ]
  },
  {
   "cell_type": "code",
   "execution_count": 27,
   "metadata": {},
   "outputs": [],
   "source": [
    "# Eliminamos la columna Xy (Caba)\n",
    "df_hechos.drop(columns=['Xy (Caba)'], inplace = True)"
   ]
  },
  {
   "cell_type": "markdown",
   "metadata": {},
   "source": [
    "Ahora procedemos a normalizar el nombre de las columnas."
   ]
  },
  {
   "cell_type": "code",
   "execution_count": 28,
   "metadata": {},
   "outputs": [],
   "source": [
    "df_hechos.columns = df_hechos.columns.str.title()\n"
   ]
  },
  {
   "cell_type": "code",
   "execution_count": 29,
   "metadata": {},
   "outputs": [],
   "source": [
    "# Cambiamos el nombre de algunas columnas\n",
    "df_hechos.rename(columns={'Aaaa': \"Año\", \"Mm\":\"Mes\", \"Dd\":\"Día\", \"Hh\":\"Franja Horaria Entera\" }, inplace = True)"
   ]
  },
  {
   "cell_type": "code",
   "execution_count": 30,
   "metadata": {},
   "outputs": [],
   "source": [
    "nuevo_orden = [\"Id\",\"N_Victimas\",\"Fecha\", \"Año\", \"Mes\", \"Día\",\"Nombre_Día\", \"Hora\", \"Franja Horaria Entera\", \"Lugar_Del_Hecho\", \"Tipo_De_Calle\", \"Calle\", \"Cruce\", \"Dirección Normalizada\", \"Comuna\", \"Pos X\", \"Pos Y\",  \"Coordenada_X\", \"Coordenada_Y\", \"Participantes\", \"Victima\", \"Acusado\"]\n",
    "\n",
    "df_hechos = df_hechos[nuevo_orden]"
   ]
  },
  {
   "cell_type": "markdown",
   "metadata": {},
   "source": [
    "Vamos a verificar el tipo de dato de las columnas. Y a cambiar cuando sea necesario."
   ]
  },
  {
   "cell_type": "code",
   "execution_count": 31,
   "metadata": {},
   "outputs": [
    {
     "name": "stdout",
     "output_type": "stream",
     "text": [
      "Id                               object\n",
      "N_Victimas                        int64\n",
      "Fecha                    datetime64[ns]\n",
      "Año                               int64\n",
      "Mes                              object\n",
      "Día                               int64\n",
      "Nombre_Día                       object\n",
      "Hora                             object\n",
      "Franja Horaria Entera             Int64\n",
      "Lugar_Del_Hecho                  object\n",
      "Tipo_De_Calle                    object\n",
      "Calle                            object\n",
      "Cruce                            object\n",
      "Dirección Normalizada            object\n",
      "Comuna                            int64\n",
      "Pos X                           float64\n",
      "Pos Y                           float64\n",
      "Coordenada_X                    float64\n",
      "Coordenada_Y                    float64\n",
      "Participantes                    object\n",
      "Victima                          object\n",
      "Acusado                          object\n",
      "dtype: object\n"
     ]
    }
   ],
   "source": [
    "print(df_hechos.dtypes)"
   ]
  },
  {
   "cell_type": "code",
   "execution_count": 32,
   "metadata": {},
   "outputs": [],
   "source": [
    "# Convertimos a tipo datetime y luego extraer Año, Mes y Día\n",
    "df_hechos['Fecha'] = pd.to_datetime(df_hechos['Fecha'], errors='coerce')\n",
    "df_hechos['Año'] = pd.to_datetime(df_hechos['Año'], format='%Y')\n",
    "\n",
    "\n",
    "# Convertimos Hora a tipo de tiempo\n",
    "df_hechos['Hora'] = pd.to_datetime(df_hechos['Hora'], format='%H:%M:%S', errors='coerce').dt.time\n",
    "\n",
    "# Las columnas de texto se pasan a str\n",
    "df_hechos['Lugar_Del_Hecho'] = df_hechos['Lugar_Del_Hecho'].astype(str)\n",
    "df_hechos['Tipo_De_Calle'] = df_hechos['Tipo_De_Calle'].astype(str)\n",
    "df_hechos['Calle'] = df_hechos['Calle'].astype(str)\n",
    "df_hechos['Cruce'] = df_hechos['Cruce'].astype(str)\n",
    "df_hechos['Dirección Normalizada'] = df_hechos['Dirección Normalizada'].astype(str)\n",
    "df_hechos['Pos X'] = pd.to_numeric(df_hechos['Pos X'], errors='coerce')  \n",
    "df_hechos['Pos Y'] = pd.to_numeric(df_hechos['Pos Y'], errors='coerce')  \n",
    "df_hechos['Participantes'] = df_hechos['Participantes'].astype(str)\n",
    "df_hechos['Victima'] = df_hechos['Victima'].astype(str)\n",
    "df_hechos['Acusado'] = df_hechos['Acusado'].astype(str)\n",
    "\n"
   ]
  },
  {
   "cell_type": "code",
   "execution_count": 33,
   "metadata": {},
   "outputs": [
    {
     "data": {
      "text/html": [
       "<div>\n",
       "<style scoped>\n",
       "    .dataframe tbody tr th:only-of-type {\n",
       "        vertical-align: middle;\n",
       "    }\n",
       "\n",
       "    .dataframe tbody tr th {\n",
       "        vertical-align: top;\n",
       "    }\n",
       "\n",
       "    .dataframe thead th {\n",
       "        text-align: right;\n",
       "    }\n",
       "</style>\n",
       "<table border=\"1\" class=\"dataframe\">\n",
       "  <thead>\n",
       "    <tr style=\"text-align: right;\">\n",
       "      <th></th>\n",
       "      <th>Id</th>\n",
       "      <th>N_Victimas</th>\n",
       "      <th>Fecha</th>\n",
       "      <th>Año</th>\n",
       "      <th>Mes</th>\n",
       "      <th>Día</th>\n",
       "      <th>Nombre_Día</th>\n",
       "      <th>Hora</th>\n",
       "      <th>Franja Horaria Entera</th>\n",
       "      <th>Lugar_Del_Hecho</th>\n",
       "      <th>...</th>\n",
       "      <th>Cruce</th>\n",
       "      <th>Dirección Normalizada</th>\n",
       "      <th>Comuna</th>\n",
       "      <th>Pos X</th>\n",
       "      <th>Pos Y</th>\n",
       "      <th>Coordenada_X</th>\n",
       "      <th>Coordenada_Y</th>\n",
       "      <th>Participantes</th>\n",
       "      <th>Victima</th>\n",
       "      <th>Acusado</th>\n",
       "    </tr>\n",
       "  </thead>\n",
       "  <tbody>\n",
       "    <tr>\n",
       "      <th>0</th>\n",
       "      <td>2016-0001</td>\n",
       "      <td>1</td>\n",
       "      <td>2016-01-01</td>\n",
       "      <td>2016-01-01</td>\n",
       "      <td>Enero</td>\n",
       "      <td>1</td>\n",
       "      <td>Viernes</td>\n",
       "      <td>04:00:00</td>\n",
       "      <td>4</td>\n",
       "      <td>AV PIEDRA BUENA Y AV FERNANDEZ DE LA CRUZ</td>\n",
       "      <td>...</td>\n",
       "      <td>FERNANDEZ DE LA CRUZ, F., GRAL. AV.</td>\n",
       "      <td>PIEDRA BUENA AV. y FERNANDEZ DE LA CRUZ, F., G...</td>\n",
       "      <td>8</td>\n",
       "      <td>-58.475340</td>\n",
       "      <td>-34.687570</td>\n",
       "      <td>98896.782384</td>\n",
       "      <td>93532.434378</td>\n",
       "      <td>MOTO-AUTO</td>\n",
       "      <td>MOTO</td>\n",
       "      <td>AUTO</td>\n",
       "    </tr>\n",
       "    <tr>\n",
       "      <th>1</th>\n",
       "      <td>2016-0002</td>\n",
       "      <td>1</td>\n",
       "      <td>2016-01-02</td>\n",
       "      <td>2016-01-01</td>\n",
       "      <td>Enero</td>\n",
       "      <td>2</td>\n",
       "      <td>Sábado</td>\n",
       "      <td>01:15:00</td>\n",
       "      <td>1</td>\n",
       "      <td>AV GRAL PAZ  Y AV DE LOS CORRALES</td>\n",
       "      <td>...</td>\n",
       "      <td>DE LOS CORRALES AV.</td>\n",
       "      <td>PAZ, GRAL. AV. y DE LOS CORRALES AV.</td>\n",
       "      <td>9</td>\n",
       "      <td>-58.508775</td>\n",
       "      <td>-34.669777</td>\n",
       "      <td>95832.055711</td>\n",
       "      <td>95505.416420</td>\n",
       "      <td>AUTO-PASAJEROS</td>\n",
       "      <td>AUTO</td>\n",
       "      <td>PASAJEROS</td>\n",
       "    </tr>\n",
       "  </tbody>\n",
       "</table>\n",
       "<p>2 rows × 22 columns</p>\n",
       "</div>"
      ],
      "text/plain": [
       "          Id  N_Victimas      Fecha        Año    Mes  Día Nombre_Día  \\\n",
       "0  2016-0001           1 2016-01-01 2016-01-01  Enero    1    Viernes   \n",
       "1  2016-0002           1 2016-01-02 2016-01-01  Enero    2     Sábado   \n",
       "\n",
       "       Hora  Franja Horaria Entera                            Lugar_Del_Hecho  \\\n",
       "0  04:00:00                      4  AV PIEDRA BUENA Y AV FERNANDEZ DE LA CRUZ   \n",
       "1  01:15:00                      1          AV GRAL PAZ  Y AV DE LOS CORRALES   \n",
       "\n",
       "   ...                                Cruce  \\\n",
       "0  ...  FERNANDEZ DE LA CRUZ, F., GRAL. AV.   \n",
       "1  ...                  DE LOS CORRALES AV.   \n",
       "\n",
       "                               Dirección Normalizada Comuna      Pos X  \\\n",
       "0  PIEDRA BUENA AV. y FERNANDEZ DE LA CRUZ, F., G...      8 -58.475340   \n",
       "1               PAZ, GRAL. AV. y DE LOS CORRALES AV.      9 -58.508775   \n",
       "\n",
       "       Pos Y  Coordenada_X  Coordenada_Y   Participantes  Victima    Acusado  \n",
       "0 -34.687570  98896.782384  93532.434378       MOTO-AUTO     MOTO       AUTO  \n",
       "1 -34.669777  95832.055711  95505.416420  AUTO-PASAJEROS     AUTO  PASAJEROS  \n",
       "\n",
       "[2 rows x 22 columns]"
      ]
     },
     "execution_count": 33,
     "metadata": {},
     "output_type": "execute_result"
    }
   ],
   "source": [
    "df_hechos.head(2)"
   ]
  },
  {
   "cell_type": "markdown",
   "metadata": {},
   "source": [
    "Vamos a corregir la columna \"Año\""
   ]
  },
  {
   "cell_type": "code",
   "execution_count": 34,
   "metadata": {},
   "outputs": [
    {
     "data": {
      "text/html": [
       "<div>\n",
       "<style scoped>\n",
       "    .dataframe tbody tr th:only-of-type {\n",
       "        vertical-align: middle;\n",
       "    }\n",
       "\n",
       "    .dataframe tbody tr th {\n",
       "        vertical-align: top;\n",
       "    }\n",
       "\n",
       "    .dataframe thead th {\n",
       "        text-align: right;\n",
       "    }\n",
       "</style>\n",
       "<table border=\"1\" class=\"dataframe\">\n",
       "  <thead>\n",
       "    <tr style=\"text-align: right;\">\n",
       "      <th></th>\n",
       "      <th>Id</th>\n",
       "      <th>N_Victimas</th>\n",
       "      <th>Fecha</th>\n",
       "      <th>Año</th>\n",
       "      <th>Mes</th>\n",
       "      <th>Día</th>\n",
       "      <th>Nombre_Día</th>\n",
       "      <th>Hora</th>\n",
       "      <th>Franja Horaria Entera</th>\n",
       "      <th>Lugar_Del_Hecho</th>\n",
       "      <th>...</th>\n",
       "      <th>Cruce</th>\n",
       "      <th>Dirección Normalizada</th>\n",
       "      <th>Comuna</th>\n",
       "      <th>Pos X</th>\n",
       "      <th>Pos Y</th>\n",
       "      <th>Coordenada_X</th>\n",
       "      <th>Coordenada_Y</th>\n",
       "      <th>Participantes</th>\n",
       "      <th>Victima</th>\n",
       "      <th>Acusado</th>\n",
       "    </tr>\n",
       "  </thead>\n",
       "  <tbody>\n",
       "    <tr>\n",
       "      <th>0</th>\n",
       "      <td>2016-0001</td>\n",
       "      <td>1</td>\n",
       "      <td>2016-01-01</td>\n",
       "      <td>2016</td>\n",
       "      <td>Enero</td>\n",
       "      <td>1</td>\n",
       "      <td>Viernes</td>\n",
       "      <td>04:00:00</td>\n",
       "      <td>4</td>\n",
       "      <td>AV PIEDRA BUENA Y AV FERNANDEZ DE LA CRUZ</td>\n",
       "      <td>...</td>\n",
       "      <td>FERNANDEZ DE LA CRUZ, F., GRAL. AV.</td>\n",
       "      <td>PIEDRA BUENA AV. y FERNANDEZ DE LA CRUZ, F., G...</td>\n",
       "      <td>8</td>\n",
       "      <td>-58.475340</td>\n",
       "      <td>-34.687570</td>\n",
       "      <td>98896.782384</td>\n",
       "      <td>93532.434378</td>\n",
       "      <td>MOTO-AUTO</td>\n",
       "      <td>MOTO</td>\n",
       "      <td>AUTO</td>\n",
       "    </tr>\n",
       "    <tr>\n",
       "      <th>1</th>\n",
       "      <td>2016-0002</td>\n",
       "      <td>1</td>\n",
       "      <td>2016-01-02</td>\n",
       "      <td>2016</td>\n",
       "      <td>Enero</td>\n",
       "      <td>2</td>\n",
       "      <td>Sábado</td>\n",
       "      <td>01:15:00</td>\n",
       "      <td>1</td>\n",
       "      <td>AV GRAL PAZ  Y AV DE LOS CORRALES</td>\n",
       "      <td>...</td>\n",
       "      <td>DE LOS CORRALES AV.</td>\n",
       "      <td>PAZ, GRAL. AV. y DE LOS CORRALES AV.</td>\n",
       "      <td>9</td>\n",
       "      <td>-58.508775</td>\n",
       "      <td>-34.669777</td>\n",
       "      <td>95832.055711</td>\n",
       "      <td>95505.416420</td>\n",
       "      <td>AUTO-PASAJEROS</td>\n",
       "      <td>AUTO</td>\n",
       "      <td>PASAJEROS</td>\n",
       "    </tr>\n",
       "    <tr>\n",
       "      <th>2</th>\n",
       "      <td>2016-0003</td>\n",
       "      <td>1</td>\n",
       "      <td>2016-01-03</td>\n",
       "      <td>2016</td>\n",
       "      <td>Enero</td>\n",
       "      <td>3</td>\n",
       "      <td>Domingo</td>\n",
       "      <td>07:00:00</td>\n",
       "      <td>7</td>\n",
       "      <td>AV ENTRE RIOS 2034</td>\n",
       "      <td>...</td>\n",
       "      <td>nan</td>\n",
       "      <td>ENTRE RIOS AV. 2034</td>\n",
       "      <td>1</td>\n",
       "      <td>-58.390403</td>\n",
       "      <td>-34.631894</td>\n",
       "      <td>106684.290900</td>\n",
       "      <td>99706.576878</td>\n",
       "      <td>MOTO-AUTO</td>\n",
       "      <td>MOTO</td>\n",
       "      <td>AUTO</td>\n",
       "    </tr>\n",
       "  </tbody>\n",
       "</table>\n",
       "<p>3 rows × 22 columns</p>\n",
       "</div>"
      ],
      "text/plain": [
       "          Id  N_Victimas      Fecha   Año    Mes  Día Nombre_Día      Hora  \\\n",
       "0  2016-0001           1 2016-01-01  2016  Enero    1    Viernes  04:00:00   \n",
       "1  2016-0002           1 2016-01-02  2016  Enero    2     Sábado  01:15:00   \n",
       "2  2016-0003           1 2016-01-03  2016  Enero    3    Domingo  07:00:00   \n",
       "\n",
       "   Franja Horaria Entera                            Lugar_Del_Hecho  ...  \\\n",
       "0                      4  AV PIEDRA BUENA Y AV FERNANDEZ DE LA CRUZ  ...   \n",
       "1                      1          AV GRAL PAZ  Y AV DE LOS CORRALES  ...   \n",
       "2                      7                         AV ENTRE RIOS 2034  ...   \n",
       "\n",
       "                                 Cruce  \\\n",
       "0  FERNANDEZ DE LA CRUZ, F., GRAL. AV.   \n",
       "1                  DE LOS CORRALES AV.   \n",
       "2                                  nan   \n",
       "\n",
       "                               Dirección Normalizada Comuna      Pos X  \\\n",
       "0  PIEDRA BUENA AV. y FERNANDEZ DE LA CRUZ, F., G...      8 -58.475340   \n",
       "1               PAZ, GRAL. AV. y DE LOS CORRALES AV.      9 -58.508775   \n",
       "2                                ENTRE RIOS AV. 2034      1 -58.390403   \n",
       "\n",
       "       Pos Y   Coordenada_X  Coordenada_Y   Participantes  Victima    Acusado  \n",
       "0 -34.687570   98896.782384  93532.434378       MOTO-AUTO     MOTO       AUTO  \n",
       "1 -34.669777   95832.055711  95505.416420  AUTO-PASAJEROS     AUTO  PASAJEROS  \n",
       "2 -34.631894  106684.290900  99706.576878       MOTO-AUTO     MOTO       AUTO  \n",
       "\n",
       "[3 rows x 22 columns]"
      ]
     },
     "execution_count": 34,
     "metadata": {},
     "output_type": "execute_result"
    }
   ],
   "source": [
    "df_hechos['Fecha'] = pd.to_datetime(df_hechos['Fecha'])\n",
    "\n",
    "# Extraemos solo el año de la columna 'Fecha' y actualizamos la columna 'Año'\n",
    "df_hechos['Año'] = df_hechos['Fecha'].dt.year\n",
    "\n",
    "# Mostrar el DataFrame resultante\n",
    "df_hechos.head(3)"
   ]
  },
  {
   "cell_type": "code",
   "execution_count": 35,
   "metadata": {},
   "outputs": [],
   "source": [
    "#df_hechos.to_csv(\"hechos.csv\", sep = \";\", index = False) # Exportamos a csv"
   ]
  },
  {
   "cell_type": "markdown",
   "metadata": {},
   "source": [
    "### Ahora procederemos a ver el dataset de victimas.\n"
   ]
  },
  {
   "cell_type": "code",
   "execution_count": 36,
   "metadata": {},
   "outputs": [
    {
     "data": {
      "text/html": [
       "<div>\n",
       "<style scoped>\n",
       "    .dataframe tbody tr th:only-of-type {\n",
       "        vertical-align: middle;\n",
       "    }\n",
       "\n",
       "    .dataframe tbody tr th {\n",
       "        vertical-align: top;\n",
       "    }\n",
       "\n",
       "    .dataframe thead th {\n",
       "        text-align: right;\n",
       "    }\n",
       "</style>\n",
       "<table border=\"1\" class=\"dataframe\">\n",
       "  <thead>\n",
       "    <tr style=\"text-align: right;\">\n",
       "      <th></th>\n",
       "      <th>ID_hecho</th>\n",
       "      <th>FECHA</th>\n",
       "      <th>AAAA</th>\n",
       "      <th>MM</th>\n",
       "      <th>DD</th>\n",
       "      <th>ROL</th>\n",
       "      <th>VICTIMA</th>\n",
       "      <th>SEXO</th>\n",
       "      <th>EDAD</th>\n",
       "      <th>FECHA_FALLECIMIENTO</th>\n",
       "    </tr>\n",
       "  </thead>\n",
       "  <tbody>\n",
       "    <tr>\n",
       "      <th>0</th>\n",
       "      <td>2016-0001</td>\n",
       "      <td>2016-01-01</td>\n",
       "      <td>2016</td>\n",
       "      <td>1</td>\n",
       "      <td>1</td>\n",
       "      <td>CONDUCTOR</td>\n",
       "      <td>MOTO</td>\n",
       "      <td>MASCULINO</td>\n",
       "      <td>19</td>\n",
       "      <td>2016-01-01 00:00:00</td>\n",
       "    </tr>\n",
       "    <tr>\n",
       "      <th>1</th>\n",
       "      <td>2016-0002</td>\n",
       "      <td>2016-01-02</td>\n",
       "      <td>2016</td>\n",
       "      <td>1</td>\n",
       "      <td>2</td>\n",
       "      <td>CONDUCTOR</td>\n",
       "      <td>AUTO</td>\n",
       "      <td>MASCULINO</td>\n",
       "      <td>70</td>\n",
       "      <td>2016-01-02 00:00:00</td>\n",
       "    </tr>\n",
       "    <tr>\n",
       "      <th>2</th>\n",
       "      <td>2016-0003</td>\n",
       "      <td>2016-01-03</td>\n",
       "      <td>2016</td>\n",
       "      <td>1</td>\n",
       "      <td>3</td>\n",
       "      <td>CONDUCTOR</td>\n",
       "      <td>MOTO</td>\n",
       "      <td>MASCULINO</td>\n",
       "      <td>30</td>\n",
       "      <td>2016-01-03 00:00:00</td>\n",
       "    </tr>\n",
       "    <tr>\n",
       "      <th>3</th>\n",
       "      <td>2016-0004</td>\n",
       "      <td>2016-01-10</td>\n",
       "      <td>2016</td>\n",
       "      <td>1</td>\n",
       "      <td>10</td>\n",
       "      <td>CONDUCTOR</td>\n",
       "      <td>MOTO</td>\n",
       "      <td>MASCULINO</td>\n",
       "      <td>18</td>\n",
       "      <td>SD</td>\n",
       "    </tr>\n",
       "    <tr>\n",
       "      <th>4</th>\n",
       "      <td>2016-0005</td>\n",
       "      <td>2016-01-21</td>\n",
       "      <td>2016</td>\n",
       "      <td>1</td>\n",
       "      <td>21</td>\n",
       "      <td>CONDUCTOR</td>\n",
       "      <td>MOTO</td>\n",
       "      <td>MASCULINO</td>\n",
       "      <td>29</td>\n",
       "      <td>2016-02-01 00:00:00</td>\n",
       "    </tr>\n",
       "  </tbody>\n",
       "</table>\n",
       "</div>"
      ],
      "text/plain": [
       "    ID_hecho      FECHA  AAAA  MM  DD        ROL VICTIMA       SEXO EDAD  \\\n",
       "0  2016-0001 2016-01-01  2016   1   1  CONDUCTOR    MOTO  MASCULINO   19   \n",
       "1  2016-0002 2016-01-02  2016   1   2  CONDUCTOR    AUTO  MASCULINO   70   \n",
       "2  2016-0003 2016-01-03  2016   1   3  CONDUCTOR    MOTO  MASCULINO   30   \n",
       "3  2016-0004 2016-01-10  2016   1  10  CONDUCTOR    MOTO  MASCULINO   18   \n",
       "4  2016-0005 2016-01-21  2016   1  21  CONDUCTOR    MOTO  MASCULINO   29   \n",
       "\n",
       "   FECHA_FALLECIMIENTO  \n",
       "0  2016-01-01 00:00:00  \n",
       "1  2016-01-02 00:00:00  \n",
       "2  2016-01-03 00:00:00  \n",
       "3                   SD  \n",
       "4  2016-02-01 00:00:00  "
      ]
     },
     "execution_count": 36,
     "metadata": {},
     "output_type": "execute_result"
    }
   ],
   "source": [
    "df_victimas.head(5)"
   ]
  },
  {
   "cell_type": "markdown",
   "metadata": {},
   "source": [
    "Primero veremos datos nulos."
   ]
  },
  {
   "cell_type": "code",
   "execution_count": 37,
   "metadata": {},
   "outputs": [
    {
     "name": "stdout",
     "output_type": "stream",
     "text": [
      "<class 'pandas.core.frame.DataFrame'>\n",
      "RangeIndex: 717 entries, 0 to 716\n",
      "Data columns (total 10 columns):\n",
      " #   Column               Non-Null Count  Dtype         \n",
      "---  ------               --------------  -----         \n",
      " 0   ID_hecho             717 non-null    object        \n",
      " 1   FECHA                717 non-null    datetime64[ns]\n",
      " 2   AAAA                 717 non-null    int64         \n",
      " 3   MM                   717 non-null    int64         \n",
      " 4   DD                   717 non-null    int64         \n",
      " 5   ROL                  717 non-null    object        \n",
      " 6   VICTIMA              717 non-null    object        \n",
      " 7   SEXO                 717 non-null    object        \n",
      " 8   EDAD                 717 non-null    object        \n",
      " 9   FECHA_FALLECIMIENTO  717 non-null    object        \n",
      "dtypes: datetime64[ns](1), int64(3), object(6)\n",
      "memory usage: 56.1+ KB\n"
     ]
    }
   ],
   "source": [
    "df_victimas.info()"
   ]
  },
  {
   "cell_type": "code",
   "execution_count": 38,
   "metadata": {},
   "outputs": [
    {
     "data": {
      "text/plain": [
       "ID_hecho               0\n",
       "FECHA                  0\n",
       "AAAA                   0\n",
       "MM                     0\n",
       "DD                     0\n",
       "ROL                    0\n",
       "VICTIMA                0\n",
       "SEXO                   0\n",
       "EDAD                   0\n",
       "FECHA_FALLECIMIENTO    0\n",
       "dtype: int64"
      ]
     },
     "execution_count": 38,
     "metadata": {},
     "output_type": "execute_result"
    }
   ],
   "source": [
    "df_victimas.isnull().sum()"
   ]
  },
  {
   "cell_type": "markdown",
   "metadata": {},
   "source": [
    "No hay nulos. Asi que procederemos a ver duplicados en la columna de Id."
   ]
  },
  {
   "cell_type": "code",
   "execution_count": 39,
   "metadata": {},
   "outputs": [
    {
     "data": {
      "text/plain": [
       "ID_hecho\n",
       "2017-0035    3\n",
       "2017-0050    2\n",
       "2016-0041    2\n",
       "2018-0015    2\n",
       "2020-0063    2\n",
       "            ..\n",
       "2017-0115    1\n",
       "2017-0116    1\n",
       "2017-0118    1\n",
       "2017-0120    1\n",
       "2021-0096    1\n",
       "Name: count, Length: 696, dtype: int64"
      ]
     },
     "execution_count": 39,
     "metadata": {},
     "output_type": "execute_result"
    }
   ],
   "source": [
    "df_victimas[\"ID_hecho\"].value_counts()"
   ]
  },
  {
   "cell_type": "markdown",
   "metadata": {},
   "source": [
    "Si hay duplicados. Asi que los vamos a examinar."
   ]
  },
  {
   "cell_type": "code",
   "execution_count": 40,
   "metadata": {},
   "outputs": [
    {
     "name": "stdout",
     "output_type": "stream",
     "text": [
      "      ID_hecho      FECHA  AAAA  MM  DD                   ROL VICTIMA  \\\n",
      "29   2016-0041 2016-03-29  2016   3  29             CONDUCTOR    MOTO   \n",
      "30   2016-0041 2016-03-29  2016   3  29  PASAJERO_ACOMPAÑANTE    MOTO   \n",
      "98   2016-0126 2016-09-18  2016   9  18             CONDUCTOR    AUTO   \n",
      "99   2016-0126 2016-09-18  2016   9  18  PASAJERO_ACOMPAÑANTE    AUTO   \n",
      "163  2017-0026 2017-02-26  2017   2  26  PASAJERO_ACOMPAÑANTE    AUTO   \n",
      "164  2017-0026 2017-02-26  2017   2  26             CONDUCTOR    AUTO   \n",
      "173  2017-0035 2017-03-23  2017   3  23             CONDUCTOR    AUTO   \n",
      "174  2017-0035 2017-03-23  2017   3  23  PASAJERO_ACOMPAÑANTE    AUTO   \n",
      "175  2017-0035 2017-03-23  2017   3  23  PASAJERO_ACOMPAÑANTE    AUTO   \n",
      "176  2017-0036 2017-03-29  2017   3  29  PASAJERO_ACOMPAÑANTE    MOTO   \n",
      "177  2017-0036 2017-03-29  2017   3  29             CONDUCTOR    MOTO   \n",
      "186  2017-0050 2017-04-28  2017   4  28             CONDUCTOR    MOTO   \n",
      "187  2017-0050 2017-04-28  2017   4  28  PASAJERO_ACOMPAÑANTE    MOTO   \n",
      "237  2017-0108 2017-09-02  2017   9   2  PASAJERO_ACOMPAÑANTE    AUTO   \n",
      "238  2017-0108 2017-09-02  2017   9   2  PASAJERO_ACOMPAÑANTE    AUTO   \n",
      "242  2017-0112 2017-09-10  2017   9  10  PASAJERO_ACOMPAÑANTE    AUTO   \n",
      "243  2017-0112 2017-09-10  2017   9  10  PASAJERO_ACOMPAÑANTE    AUTO   \n",
      "253  2017-0126 2017-10-14  2017  10  14  PASAJERO_ACOMPAÑANTE    AUTO   \n",
      "254  2017-0126 2017-10-14  2017  10  14             CONDUCTOR    AUTO   \n",
      "277  2017-0153 2017-12-11  2017  12  11  PASAJERO_ACOMPAÑANTE    MOTO   \n",
      "278  2017-0153 2017-12-11  2017  12  11             CONDUCTOR    MOTO   \n",
      "300  2018-0015 2018-02-06  2018   2   6             CONDUCTOR    MOTO   \n",
      "301  2018-0015 2018-02-06  2018   2   6  PASAJERO_ACOMPAÑANTE    MOTO   \n",
      "312  2018-0026 2018-03-09  2018   3   9             CONDUCTOR   MOVIL   \n",
      "313  2018-0026 2018-03-09  2018   3   9  PASAJERO_ACOMPAÑANTE   MOVIL   \n",
      "325  2018-0038 2018-04-20  2018   4  20                PEATON  PEATON   \n",
      "326  2018-0038 2018-04-20  2018   4  20                PEATON  PEATON   \n",
      "373  2018-0085 2018-08-03  2018   8   3  PASAJERO_ACOMPAÑANTE    MOTO   \n",
      "374  2018-0085 2018-08-03  2018   8   3             CONDUCTOR    MOTO   \n",
      "387  2018-0098 2018-09-09  2018   9   9             CONDUCTOR    AUTO   \n",
      "388  2018-0098 2018-09-09  2018   9   9  PASAJERO_ACOMPAÑANTE    AUTO   \n",
      "418  2018-0128 2018-11-25  2018  11  25  PASAJERO_ACOMPAÑANTE    AUTO   \n",
      "419  2018-0128 2018-11-25  2018  11  25  PASAJERO_ACOMPAÑANTE    AUTO   \n",
      "444  2019-0010 2019-02-02  2019   2   2                PEATON  PEATON   \n",
      "445  2019-0010 2019-02-02  2019   2   2                PEATON  PEATON   \n",
      "576  2020-0038 2020-08-30  2020   8  30             CONDUCTOR    AUTO   \n",
      "577  2020-0038 2020-08-30  2020   8  30             CONDUCTOR    AUTO   \n",
      "602  2020-0063 2020-12-05  2020  12   5                PEATON  PEATON   \n",
      "603  2020-0063 2020-12-05  2020  12   5  PASAJERO_ACOMPAÑANTE    MOTO   \n",
      "616  2020-0077 2020-12-25  2020  12  25             CONDUCTOR    MOTO   \n",
      "617  2020-0077 2020-12-25  2020  12  25  PASAJERO_ACOMPAÑANTE    MOTO   \n",
      "\n",
      "          SEXO EDAD  FECHA_FALLECIMIENTO  \n",
      "29   MASCULINO   54  2016-03-29 00:00:00  \n",
      "30   MASCULINO   SD  2016-03-30 00:00:00  \n",
      "98   MASCULINO   37                   SD  \n",
      "99   MASCULINO   60                   SD  \n",
      "163   FEMENINO   23  2017-02-26 00:00:00  \n",
      "164  MASCULINO   19  2017-02-26 00:00:00  \n",
      "173  MASCULINO   28  2017-03-23 00:00:00  \n",
      "174  MASCULINO   32  2017-03-23 00:00:00  \n",
      "175  MASCULINO   30  2017-03-23 00:00:00  \n",
      "176   FEMENINO   SD  2017-03-29 00:00:00  \n",
      "177  MASCULINO   20  2017-03-29 00:00:00  \n",
      "186  MASCULINO   46  2017-04-28 00:00:00  \n",
      "187  MASCULINO   16  2017-04-28 00:00:00  \n",
      "237  MASCULINO   17  2017-09-02 00:00:00  \n",
      "238  MASCULINO   10  2017-09-02 00:00:00  \n",
      "242  MASCULINO    1                   SD  \n",
      "243  MASCULINO   SD  2017-09-13 00:00:00  \n",
      "253  MASCULINO   39                   SD  \n",
      "254  MASCULINO   36  2017-10-14 00:00:00  \n",
      "277  MASCULINO   SD  2017-12-12 00:00:00  \n",
      "278  MASCULINO   30  2017-12-12 00:00:00  \n",
      "300  MASCULINO   28  2018-02-06 00:00:00  \n",
      "301  MASCULINO   19  2018-02-06 00:00:00  \n",
      "312  MASCULINO   24  2018-03-09 00:00:00  \n",
      "313  MASCULINO   30  2018-03-09 00:00:00  \n",
      "325   FEMENINO   59  2018-04-20 00:00:00  \n",
      "326  MASCULINO   61  2018-04-20 00:00:00  \n",
      "373   FEMENINO   22  2018-08-03 00:00:00  \n",
      "374  MASCULINO   30  2018-08-03 00:00:00  \n",
      "387  MASCULINO   55  2018-09-09 00:00:00  \n",
      "388  MASCULINO   54  2018-09-09 00:00:00  \n",
      "418  MASCULINO   49  2018-11-25 00:00:00  \n",
      "419   FEMENINO   39  2018-11-25 00:00:00  \n",
      "444  MASCULINO   SD  2019-02-02 00:00:00  \n",
      "445  MASCULINO   59  2019-02-02 00:00:00  \n",
      "576  MASCULINO   46  2020-08-30 00:00:00  \n",
      "577  MASCULINO   64  2020-08-30 00:00:00  \n",
      "602  MASCULINO   38  2020-12-05 00:00:00  \n",
      "603  MASCULINO   21  2020-12-05 00:00:00  \n",
      "616   FEMENINO   30  2020-12-25 00:00:00  \n",
      "617   FEMENINO   24  2020-12-25 00:00:00  \n"
     ]
    }
   ],
   "source": [
    "duplicados = df_victimas[df_victimas.duplicated(subset='ID_hecho', keep=False)]\n",
    "print(duplicados)\n"
   ]
  },
  {
   "cell_type": "markdown",
   "metadata": {},
   "source": [
    "Vamos a conservar los duplicados ya que tienen distinta informacion en cuanto al rol."
   ]
  },
  {
   "cell_type": "markdown",
   "metadata": {},
   "source": [
    "Siguiente, examinaremos el tipo de dato de las columnas."
   ]
  },
  {
   "cell_type": "code",
   "execution_count": 41,
   "metadata": {},
   "outputs": [
    {
     "name": "stdout",
     "output_type": "stream",
     "text": [
      "                       Tipo de Dato\n",
      "ID_hecho                     object\n",
      "FECHA                datetime64[ns]\n",
      "AAAA                          int64\n",
      "MM                            int64\n",
      "DD                            int64\n",
      "ROL                          object\n",
      "VICTIMA                      object\n",
      "SEXO                         object\n",
      "EDAD                         object\n",
      "FECHA_FALLECIMIENTO          object\n"
     ]
    }
   ],
   "source": [
    "column_types = pd.DataFrame(df_victimas.dtypes, columns=['Tipo de Dato'])\n",
    "print(column_types)\n"
   ]
  },
  {
   "cell_type": "code",
   "execution_count": 42,
   "metadata": {},
   "outputs": [],
   "source": [
    "df_victimas[\"ROL\"] = df_victimas[\"ROL\"].astype(str) \n",
    "df_victimas[\"VICTIMA\"] = df_victimas[\"VICTIMA\"].astype(str) \n",
    "df_victimas[\"SEXO\"] = df_victimas[\"SEXO\"].astype(str)\n"
   ]
  },
  {
   "cell_type": "code",
   "execution_count": 43,
   "metadata": {},
   "outputs": [],
   "source": [
    "df_victimas[\"FECHA_FALLECIMIENTO\"] = pd.to_datetime(df_victimas[\"FECHA_FALLECIMIENTO\"], format='%Y-%m-%d', errors='coerce')\n",
    "df_victimas [\"EDAD\"] = pd.to_numeric(df_victimas[\"EDAD\"], errors=\"coerce\")\n",
    "df_victimas [\"EDAD\"] = df_victimas[\"EDAD\"].astype(\"Int64\")"
   ]
  },
  {
   "cell_type": "markdown",
   "metadata": {},
   "source": [
    "Ahora chequeamos la columna de edad."
   ]
  },
  {
   "cell_type": "code",
   "execution_count": 44,
   "metadata": {},
   "outputs": [
    {
     "data": {
      "text/plain": [
       "<IntegerArray>\n",
       "[  19,   70,   30,   18,   29,   22,   16,   59,   65,   34,   41,   50,   38,\n",
       "   21,   52,   36,   20,   54, <NA>,   56,   24,   78,   79,   26,   57,   37,\n",
       "   58,   23,   60,   42,   53,   51,   40,   87,   76,   75,   35,   80,   43,\n",
       "   45,   67,   27,   55,   49,   81,   25,   33,   46,   83,   39,   28,    7,\n",
       "   48,    4,   82,   32,   17,   47,   61,   10,   95,   73,   84,   66,   85,\n",
       "    1,   15,   13,   77,   44,   31,   62,   74,   71,   11,   86,   69,   72,\n",
       "   12,   63,   92,   68,   91,   64,    5,   88]\n",
       "Length: 86, dtype: Int64"
      ]
     },
     "execution_count": 44,
     "metadata": {},
     "output_type": "execute_result"
    }
   ],
   "source": [
    "df_victimas[\"EDAD\"].unique() # Podemos ver que hay un valor nulo"
   ]
  },
  {
   "cell_type": "code",
   "execution_count": 45,
   "metadata": {},
   "outputs": [
    {
     "data": {
      "text/plain": [
       "53"
      ]
     },
     "execution_count": 45,
     "metadata": {},
     "output_type": "execute_result"
    }
   ],
   "source": [
    "df_victimas[\"EDAD\"].isnull().sum()\n"
   ]
  },
  {
   "cell_type": "code",
   "execution_count": 46,
   "metadata": {},
   "outputs": [
    {
     "name": "stdout",
     "output_type": "stream",
     "text": [
      "{'ID_hecho': 0.0, 'FECHA': 0.0, 'AAAA': 0.0, 'MM': 0.0, 'DD': 0.0, 'ROL': 0.0, 'VICTIMA': 0.0, 'SEXO': 0.0, 'EDAD': 7.39, 'FECHA_FALLECIMIENTO': 9.62}\n"
     ]
    }
   ],
   "source": [
    "edad_nulos = {}\n",
    "for column in df_victimas.columns:\n",
    "    porcentaje = (df_victimas[column].isnull().sum() / df_victimas.shape[0])*100\n",
    "    edad_nulos[column] = round(porcentaje,2)\n",
    "print(edad_nulos)"
   ]
  },
  {
   "cell_type": "markdown",
   "metadata": {},
   "source": [
    "A pesar de que la cantidad de nulos es baja, la considero una variable importante. Asi que lleno esos valores nulos con la tecnica de Imputacion Multiple, usando la libreria FancyImpute"
   ]
  },
  {
   "cell_type": "code",
   "execution_count": 47,
   "metadata": {},
   "outputs": [],
   "source": [
    "# Primero creo una copia del dataframe original\n",
    "\n",
    "df_imputacion = df_victimas.copy()\n",
    "imputer = IterativeImputer() # Instancio el modelo\n",
    "df_imputacion[[\"EDAD\"]] = imputer.fit_transform(df_imputacion[[\"EDAD\"]]) # Entreno el modelo\n",
    "df_victimas[\"EDAD\"] = df_imputacion[\"EDAD\"]\n"
   ]
  },
  {
   "cell_type": "code",
   "execution_count": 48,
   "metadata": {},
   "outputs": [
    {
     "data": {
      "text/plain": [
       "0"
      ]
     },
     "execution_count": 48,
     "metadata": {},
     "output_type": "execute_result"
    }
   ],
   "source": [
    "df_victimas[\"EDAD\"].isnull().sum() #Chequeamos"
   ]
  },
  {
   "cell_type": "markdown",
   "metadata": {},
   "source": [
    "Ahora haremos lo mismo con la columna de Fecha de Nacimiento."
   ]
  },
  {
   "cell_type": "code",
   "execution_count": 49,
   "metadata": {},
   "outputs": [],
   "source": [
    "# Creamos una columna numérica a partir de la fecha y aplicamos la imputación múltiple\n",
    "df_victimas['FECHA_FALLECIMIENTO_num'] = df_victimas['FECHA_FALLECIMIENTO'].astype(np.int64) // 10**9\n",
    "imputer = IterativeImputer(max_iter = 10, random_state = 0)\n",
    "\n",
    "# Entrenamos el modelo y realizamos la imputación\n",
    "df_victimas['FECHA_FALLECIMIENTO_num'] = imputer.fit_transform(df_victimas[['FECHA_FALLECIMIENTO_num']])\n",
    "\n",
    "# Verificamos los valores imputados y nos aseguramos que estén dentro de un rango razonable\n",
    "min_timestamp = pd.to_datetime('1900-01-01').timestamp()\n",
    "max_timestamp = pd.to_datetime('2100-12-31').timestamp()\n",
    "\n",
    "# Limitamos los valores a un rango válido\n",
    "df_victimas['FECHA_FALLECIMIENTO_num'] = df_victimas['FECHA_FALLECIMIENTO_num'].clip(lower=min_timestamp, upper=max_timestamp)\n",
    "\n",
    "# Convertimos de nuevo a tipo datetime\n",
    "df_victimas['FECHA_FALLECIMIENTO'] = pd.to_datetime(df_victimas['FECHA_FALLECIMIENTO_num'], unit='s')\n",
    "\n",
    "# Eliminamos la columna numérica auxiliar\n",
    "df_victimas.drop(columns=['FECHA_FALLECIMIENTO_num'], inplace=True)\n"
   ]
  },
  {
   "cell_type": "code",
   "execution_count": 50,
   "metadata": {},
   "outputs": [
    {
     "data": {
      "text/plain": [
       "0"
      ]
     },
     "execution_count": 50,
     "metadata": {},
     "output_type": "execute_result"
    }
   ],
   "source": [
    "df_victimas['FECHA_FALLECIMIENTO'].isnull().sum() # Ya no hay nulos"
   ]
  },
  {
   "cell_type": "code",
   "execution_count": 51,
   "metadata": {},
   "outputs": [
    {
     "data": {
      "text/html": [
       "<div>\n",
       "<style scoped>\n",
       "    .dataframe tbody tr th:only-of-type {\n",
       "        vertical-align: middle;\n",
       "    }\n",
       "\n",
       "    .dataframe tbody tr th {\n",
       "        vertical-align: top;\n",
       "    }\n",
       "\n",
       "    .dataframe thead th {\n",
       "        text-align: right;\n",
       "    }\n",
       "</style>\n",
       "<table border=\"1\" class=\"dataframe\">\n",
       "  <thead>\n",
       "    <tr style=\"text-align: right;\">\n",
       "      <th></th>\n",
       "      <th>ID_hecho</th>\n",
       "      <th>FECHA</th>\n",
       "      <th>AAAA</th>\n",
       "      <th>MM</th>\n",
       "      <th>DD</th>\n",
       "      <th>ROL</th>\n",
       "      <th>VICTIMA</th>\n",
       "      <th>SEXO</th>\n",
       "      <th>EDAD</th>\n",
       "      <th>FECHA_FALLECIMIENTO</th>\n",
       "    </tr>\n",
       "  </thead>\n",
       "  <tbody>\n",
       "    <tr>\n",
       "      <th>0</th>\n",
       "      <td>2016-0001</td>\n",
       "      <td>2016-01-01</td>\n",
       "      <td>2016</td>\n",
       "      <td>1</td>\n",
       "      <td>1</td>\n",
       "      <td>CONDUCTOR</td>\n",
       "      <td>MOTO</td>\n",
       "      <td>MASCULINO</td>\n",
       "      <td>19.0</td>\n",
       "      <td>2016-01-01</td>\n",
       "    </tr>\n",
       "    <tr>\n",
       "      <th>1</th>\n",
       "      <td>2016-0002</td>\n",
       "      <td>2016-01-02</td>\n",
       "      <td>2016</td>\n",
       "      <td>1</td>\n",
       "      <td>2</td>\n",
       "      <td>CONDUCTOR</td>\n",
       "      <td>AUTO</td>\n",
       "      <td>MASCULINO</td>\n",
       "      <td>70.0</td>\n",
       "      <td>2016-01-02</td>\n",
       "    </tr>\n",
       "    <tr>\n",
       "      <th>2</th>\n",
       "      <td>2016-0003</td>\n",
       "      <td>2016-01-03</td>\n",
       "      <td>2016</td>\n",
       "      <td>1</td>\n",
       "      <td>3</td>\n",
       "      <td>CONDUCTOR</td>\n",
       "      <td>MOTO</td>\n",
       "      <td>MASCULINO</td>\n",
       "      <td>30.0</td>\n",
       "      <td>2016-01-03</td>\n",
       "    </tr>\n",
       "    <tr>\n",
       "      <th>3</th>\n",
       "      <td>2016-0004</td>\n",
       "      <td>2016-01-10</td>\n",
       "      <td>2016</td>\n",
       "      <td>1</td>\n",
       "      <td>10</td>\n",
       "      <td>CONDUCTOR</td>\n",
       "      <td>MOTO</td>\n",
       "      <td>MASCULINO</td>\n",
       "      <td>18.0</td>\n",
       "      <td>1900-01-01</td>\n",
       "    </tr>\n",
       "    <tr>\n",
       "      <th>4</th>\n",
       "      <td>2016-0005</td>\n",
       "      <td>2016-01-21</td>\n",
       "      <td>2016</td>\n",
       "      <td>1</td>\n",
       "      <td>21</td>\n",
       "      <td>CONDUCTOR</td>\n",
       "      <td>MOTO</td>\n",
       "      <td>MASCULINO</td>\n",
       "      <td>29.0</td>\n",
       "      <td>2016-02-01</td>\n",
       "    </tr>\n",
       "  </tbody>\n",
       "</table>\n",
       "</div>"
      ],
      "text/plain": [
       "    ID_hecho      FECHA  AAAA  MM  DD        ROL VICTIMA       SEXO  EDAD  \\\n",
       "0  2016-0001 2016-01-01  2016   1   1  CONDUCTOR    MOTO  MASCULINO  19.0   \n",
       "1  2016-0002 2016-01-02  2016   1   2  CONDUCTOR    AUTO  MASCULINO  70.0   \n",
       "2  2016-0003 2016-01-03  2016   1   3  CONDUCTOR    MOTO  MASCULINO  30.0   \n",
       "3  2016-0004 2016-01-10  2016   1  10  CONDUCTOR    MOTO  MASCULINO  18.0   \n",
       "4  2016-0005 2016-01-21  2016   1  21  CONDUCTOR    MOTO  MASCULINO  29.0   \n",
       "\n",
       "  FECHA_FALLECIMIENTO  \n",
       "0          2016-01-01  \n",
       "1          2016-01-02  \n",
       "2          2016-01-03  \n",
       "3          1900-01-01  \n",
       "4          2016-02-01  "
      ]
     },
     "execution_count": 51,
     "metadata": {},
     "output_type": "execute_result"
    }
   ],
   "source": [
    "df_victimas.head(5)"
   ]
  },
  {
   "cell_type": "markdown",
   "metadata": {},
   "source": [
    "La columna \"EDAD\" tiene decimales. Vamos a limpiarla."
   ]
  },
  {
   "cell_type": "code",
   "execution_count": 52,
   "metadata": {},
   "outputs": [],
   "source": [
    "df_victimas['EDAD'] = df_victimas['EDAD'].astype(int)\n"
   ]
  },
  {
   "cell_type": "code",
   "execution_count": 53,
   "metadata": {},
   "outputs": [
    {
     "data": {
      "text/html": [
       "<div>\n",
       "<style scoped>\n",
       "    .dataframe tbody tr th:only-of-type {\n",
       "        vertical-align: middle;\n",
       "    }\n",
       "\n",
       "    .dataframe tbody tr th {\n",
       "        vertical-align: top;\n",
       "    }\n",
       "\n",
       "    .dataframe thead th {\n",
       "        text-align: right;\n",
       "    }\n",
       "</style>\n",
       "<table border=\"1\" class=\"dataframe\">\n",
       "  <thead>\n",
       "    <tr style=\"text-align: right;\">\n",
       "      <th></th>\n",
       "      <th>ID_hecho</th>\n",
       "      <th>FECHA</th>\n",
       "      <th>AAAA</th>\n",
       "      <th>MM</th>\n",
       "      <th>DD</th>\n",
       "      <th>ROL</th>\n",
       "      <th>VICTIMA</th>\n",
       "      <th>SEXO</th>\n",
       "      <th>EDAD</th>\n",
       "      <th>FECHA_FALLECIMIENTO</th>\n",
       "    </tr>\n",
       "  </thead>\n",
       "  <tbody>\n",
       "    <tr>\n",
       "      <th>0</th>\n",
       "      <td>2016-0001</td>\n",
       "      <td>2016-01-01</td>\n",
       "      <td>2016</td>\n",
       "      <td>1</td>\n",
       "      <td>1</td>\n",
       "      <td>CONDUCTOR</td>\n",
       "      <td>MOTO</td>\n",
       "      <td>MASCULINO</td>\n",
       "      <td>19</td>\n",
       "      <td>2016-01-01</td>\n",
       "    </tr>\n",
       "    <tr>\n",
       "      <th>1</th>\n",
       "      <td>2016-0002</td>\n",
       "      <td>2016-01-02</td>\n",
       "      <td>2016</td>\n",
       "      <td>1</td>\n",
       "      <td>2</td>\n",
       "      <td>CONDUCTOR</td>\n",
       "      <td>AUTO</td>\n",
       "      <td>MASCULINO</td>\n",
       "      <td>70</td>\n",
       "      <td>2016-01-02</td>\n",
       "    </tr>\n",
       "    <tr>\n",
       "      <th>2</th>\n",
       "      <td>2016-0003</td>\n",
       "      <td>2016-01-03</td>\n",
       "      <td>2016</td>\n",
       "      <td>1</td>\n",
       "      <td>3</td>\n",
       "      <td>CONDUCTOR</td>\n",
       "      <td>MOTO</td>\n",
       "      <td>MASCULINO</td>\n",
       "      <td>30</td>\n",
       "      <td>2016-01-03</td>\n",
       "    </tr>\n",
       "    <tr>\n",
       "      <th>3</th>\n",
       "      <td>2016-0004</td>\n",
       "      <td>2016-01-10</td>\n",
       "      <td>2016</td>\n",
       "      <td>1</td>\n",
       "      <td>10</td>\n",
       "      <td>CONDUCTOR</td>\n",
       "      <td>MOTO</td>\n",
       "      <td>MASCULINO</td>\n",
       "      <td>18</td>\n",
       "      <td>1900-01-01</td>\n",
       "    </tr>\n",
       "    <tr>\n",
       "      <th>4</th>\n",
       "      <td>2016-0005</td>\n",
       "      <td>2016-01-21</td>\n",
       "      <td>2016</td>\n",
       "      <td>1</td>\n",
       "      <td>21</td>\n",
       "      <td>CONDUCTOR</td>\n",
       "      <td>MOTO</td>\n",
       "      <td>MASCULINO</td>\n",
       "      <td>29</td>\n",
       "      <td>2016-02-01</td>\n",
       "    </tr>\n",
       "  </tbody>\n",
       "</table>\n",
       "</div>"
      ],
      "text/plain": [
       "    ID_hecho      FECHA  AAAA  MM  DD        ROL VICTIMA       SEXO  EDAD  \\\n",
       "0  2016-0001 2016-01-01  2016   1   1  CONDUCTOR    MOTO  MASCULINO    19   \n",
       "1  2016-0002 2016-01-02  2016   1   2  CONDUCTOR    AUTO  MASCULINO    70   \n",
       "2  2016-0003 2016-01-03  2016   1   3  CONDUCTOR    MOTO  MASCULINO    30   \n",
       "3  2016-0004 2016-01-10  2016   1  10  CONDUCTOR    MOTO  MASCULINO    18   \n",
       "4  2016-0005 2016-01-21  2016   1  21  CONDUCTOR    MOTO  MASCULINO    29   \n",
       "\n",
       "  FECHA_FALLECIMIENTO  \n",
       "0          2016-01-01  \n",
       "1          2016-01-02  \n",
       "2          2016-01-03  \n",
       "3          1900-01-01  \n",
       "4          2016-02-01  "
      ]
     },
     "execution_count": 53,
     "metadata": {},
     "output_type": "execute_result"
    }
   ],
   "source": [
    "df_victimas.head(5)"
   ]
  },
  {
   "cell_type": "markdown",
   "metadata": {},
   "source": [
    "Ahora vamos a crear un rango etario para mejorar el analisis de la variable \"EDAD\""
   ]
  },
  {
   "cell_type": "code",
   "execution_count": 54,
   "metadata": {},
   "outputs": [
    {
     "data": {
      "text/html": [
       "<div>\n",
       "<style scoped>\n",
       "    .dataframe tbody tr th:only-of-type {\n",
       "        vertical-align: middle;\n",
       "    }\n",
       "\n",
       "    .dataframe tbody tr th {\n",
       "        vertical-align: top;\n",
       "    }\n",
       "\n",
       "    .dataframe thead th {\n",
       "        text-align: right;\n",
       "    }\n",
       "</style>\n",
       "<table border=\"1\" class=\"dataframe\">\n",
       "  <thead>\n",
       "    <tr style=\"text-align: right;\">\n",
       "      <th></th>\n",
       "      <th>ID_hecho</th>\n",
       "      <th>FECHA</th>\n",
       "      <th>AAAA</th>\n",
       "      <th>MM</th>\n",
       "      <th>DD</th>\n",
       "      <th>ROL</th>\n",
       "      <th>VICTIMA</th>\n",
       "      <th>SEXO</th>\n",
       "      <th>EDAD</th>\n",
       "      <th>FECHA_FALLECIMIENTO</th>\n",
       "      <th>Rango_Etario</th>\n",
       "    </tr>\n",
       "  </thead>\n",
       "  <tbody>\n",
       "    <tr>\n",
       "      <th>0</th>\n",
       "      <td>2016-0001</td>\n",
       "      <td>2016-01-01</td>\n",
       "      <td>2016</td>\n",
       "      <td>1</td>\n",
       "      <td>1</td>\n",
       "      <td>CONDUCTOR</td>\n",
       "      <td>MOTO</td>\n",
       "      <td>MASCULINO</td>\n",
       "      <td>19</td>\n",
       "      <td>2016-01-01</td>\n",
       "      <td>Menos de 20</td>\n",
       "    </tr>\n",
       "    <tr>\n",
       "      <th>1</th>\n",
       "      <td>2016-0002</td>\n",
       "      <td>2016-01-02</td>\n",
       "      <td>2016</td>\n",
       "      <td>1</td>\n",
       "      <td>2</td>\n",
       "      <td>CONDUCTOR</td>\n",
       "      <td>AUTO</td>\n",
       "      <td>MASCULINO</td>\n",
       "      <td>70</td>\n",
       "      <td>2016-01-02</td>\n",
       "      <td>Mayores de 60</td>\n",
       "    </tr>\n",
       "    <tr>\n",
       "      <th>2</th>\n",
       "      <td>2016-0003</td>\n",
       "      <td>2016-01-03</td>\n",
       "      <td>2016</td>\n",
       "      <td>1</td>\n",
       "      <td>3</td>\n",
       "      <td>CONDUCTOR</td>\n",
       "      <td>MOTO</td>\n",
       "      <td>MASCULINO</td>\n",
       "      <td>30</td>\n",
       "      <td>2016-01-03</td>\n",
       "      <td>Entre 30 y 40</td>\n",
       "    </tr>\n",
       "    <tr>\n",
       "      <th>3</th>\n",
       "      <td>2016-0004</td>\n",
       "      <td>2016-01-10</td>\n",
       "      <td>2016</td>\n",
       "      <td>1</td>\n",
       "      <td>10</td>\n",
       "      <td>CONDUCTOR</td>\n",
       "      <td>MOTO</td>\n",
       "      <td>MASCULINO</td>\n",
       "      <td>18</td>\n",
       "      <td>1900-01-01</td>\n",
       "      <td>Menos de 20</td>\n",
       "    </tr>\n",
       "    <tr>\n",
       "      <th>4</th>\n",
       "      <td>2016-0005</td>\n",
       "      <td>2016-01-21</td>\n",
       "      <td>2016</td>\n",
       "      <td>1</td>\n",
       "      <td>21</td>\n",
       "      <td>CONDUCTOR</td>\n",
       "      <td>MOTO</td>\n",
       "      <td>MASCULINO</td>\n",
       "      <td>29</td>\n",
       "      <td>2016-02-01</td>\n",
       "      <td>Entre 20 y 30</td>\n",
       "    </tr>\n",
       "  </tbody>\n",
       "</table>\n",
       "</div>"
      ],
      "text/plain": [
       "    ID_hecho      FECHA  AAAA  MM  DD        ROL VICTIMA       SEXO  EDAD  \\\n",
       "0  2016-0001 2016-01-01  2016   1   1  CONDUCTOR    MOTO  MASCULINO    19   \n",
       "1  2016-0002 2016-01-02  2016   1   2  CONDUCTOR    AUTO  MASCULINO    70   \n",
       "2  2016-0003 2016-01-03  2016   1   3  CONDUCTOR    MOTO  MASCULINO    30   \n",
       "3  2016-0004 2016-01-10  2016   1  10  CONDUCTOR    MOTO  MASCULINO    18   \n",
       "4  2016-0005 2016-01-21  2016   1  21  CONDUCTOR    MOTO  MASCULINO    29   \n",
       "\n",
       "  FECHA_FALLECIMIENTO   Rango_Etario  \n",
       "0          2016-01-01    Menos de 20  \n",
       "1          2016-01-02  Mayores de 60  \n",
       "2          2016-01-03  Entre 30 y 40  \n",
       "3          1900-01-01    Menos de 20  \n",
       "4          2016-02-01  Entre 20 y 30  "
      ]
     },
     "execution_count": 54,
     "metadata": {},
     "output_type": "execute_result"
    }
   ],
   "source": [
    "rangos = [-float('inf'), 20, 30, 40, 50, 60, float('inf')]\n",
    "labels = ['Menos de 20', 'Entre 20 y 30', 'Entre 30 y 40', 'Entre 40 y 50', 'Entre 50 y 60', 'Mayores de 60']\n",
    "\n",
    "# Asignar los rangos etarios\n",
    "df_victimas['Rango_Etario'] = pd.cut(df_victimas['EDAD'], bins=rangos, labels=labels, right=False)\n",
    "\n",
    "# Mostrar el DataFrame con el rango etario\n",
    "df_victimas.head(5)"
   ]
  },
  {
   "cell_type": "markdown",
   "metadata": {},
   "source": [
    "Ahora procedemos a analizar la columna mes. Vamos a reemplazar el digito por el nombre de los meses."
   ]
  },
  {
   "cell_type": "code",
   "execution_count": 55,
   "metadata": {},
   "outputs": [],
   "source": [
    "# Creamos un diccionario para mapear luego\n",
    "meses = {\n",
    "    1: 'Enero',\n",
    "    2: 'Febrero',\n",
    "    3: 'Marzo',\n",
    "    4: 'Abril',\n",
    "    5: 'Mayo',\n",
    "    6: 'Junio',\n",
    "    7: 'Julio',\n",
    "    8: 'Agosto',\n",
    "    9: 'Septiembre',\n",
    "    10: 'Octubre',\n",
    "    11: 'Noviembre',\n",
    "    12: 'Diciembre'\n",
    "}\n",
    "\n",
    "df_victimas[\"MM\"] = df_victimas[\"MM\"].map(meses) "
   ]
  },
  {
   "cell_type": "markdown",
   "metadata": {},
   "source": [
    "Se hará lo mismo con la columna Día. Solo que no se reemplazaran los datos sino que se agregara una nueva columna."
   ]
  },
  {
   "cell_type": "code",
   "execution_count": 56,
   "metadata": {},
   "outputs": [],
   "source": [
    "df_victimas['Nombre_Día'] = df_victimas['FECHA'].dt.day_name(locale = 'es')"
   ]
  },
  {
   "cell_type": "code",
   "execution_count": 57,
   "metadata": {},
   "outputs": [
    {
     "data": {
      "text/html": [
       "<div>\n",
       "<style scoped>\n",
       "    .dataframe tbody tr th:only-of-type {\n",
       "        vertical-align: middle;\n",
       "    }\n",
       "\n",
       "    .dataframe tbody tr th {\n",
       "        vertical-align: top;\n",
       "    }\n",
       "\n",
       "    .dataframe thead th {\n",
       "        text-align: right;\n",
       "    }\n",
       "</style>\n",
       "<table border=\"1\" class=\"dataframe\">\n",
       "  <thead>\n",
       "    <tr style=\"text-align: right;\">\n",
       "      <th></th>\n",
       "      <th>ID_hecho</th>\n",
       "      <th>FECHA</th>\n",
       "      <th>AAAA</th>\n",
       "      <th>MM</th>\n",
       "      <th>DD</th>\n",
       "      <th>ROL</th>\n",
       "      <th>VICTIMA</th>\n",
       "      <th>SEXO</th>\n",
       "      <th>EDAD</th>\n",
       "      <th>FECHA_FALLECIMIENTO</th>\n",
       "      <th>Rango_Etario</th>\n",
       "      <th>Nombre_Día</th>\n",
       "    </tr>\n",
       "  </thead>\n",
       "  <tbody>\n",
       "    <tr>\n",
       "      <th>0</th>\n",
       "      <td>2016-0001</td>\n",
       "      <td>2016-01-01</td>\n",
       "      <td>2016</td>\n",
       "      <td>Enero</td>\n",
       "      <td>1</td>\n",
       "      <td>CONDUCTOR</td>\n",
       "      <td>MOTO</td>\n",
       "      <td>MASCULINO</td>\n",
       "      <td>19</td>\n",
       "      <td>2016-01-01</td>\n",
       "      <td>Menos de 20</td>\n",
       "      <td>Viernes</td>\n",
       "    </tr>\n",
       "    <tr>\n",
       "      <th>1</th>\n",
       "      <td>2016-0002</td>\n",
       "      <td>2016-01-02</td>\n",
       "      <td>2016</td>\n",
       "      <td>Enero</td>\n",
       "      <td>2</td>\n",
       "      <td>CONDUCTOR</td>\n",
       "      <td>AUTO</td>\n",
       "      <td>MASCULINO</td>\n",
       "      <td>70</td>\n",
       "      <td>2016-01-02</td>\n",
       "      <td>Mayores de 60</td>\n",
       "      <td>Sábado</td>\n",
       "    </tr>\n",
       "    <tr>\n",
       "      <th>2</th>\n",
       "      <td>2016-0003</td>\n",
       "      <td>2016-01-03</td>\n",
       "      <td>2016</td>\n",
       "      <td>Enero</td>\n",
       "      <td>3</td>\n",
       "      <td>CONDUCTOR</td>\n",
       "      <td>MOTO</td>\n",
       "      <td>MASCULINO</td>\n",
       "      <td>30</td>\n",
       "      <td>2016-01-03</td>\n",
       "      <td>Entre 30 y 40</td>\n",
       "      <td>Domingo</td>\n",
       "    </tr>\n",
       "    <tr>\n",
       "      <th>3</th>\n",
       "      <td>2016-0004</td>\n",
       "      <td>2016-01-10</td>\n",
       "      <td>2016</td>\n",
       "      <td>Enero</td>\n",
       "      <td>10</td>\n",
       "      <td>CONDUCTOR</td>\n",
       "      <td>MOTO</td>\n",
       "      <td>MASCULINO</td>\n",
       "      <td>18</td>\n",
       "      <td>1900-01-01</td>\n",
       "      <td>Menos de 20</td>\n",
       "      <td>Domingo</td>\n",
       "    </tr>\n",
       "    <tr>\n",
       "      <th>4</th>\n",
       "      <td>2016-0005</td>\n",
       "      <td>2016-01-21</td>\n",
       "      <td>2016</td>\n",
       "      <td>Enero</td>\n",
       "      <td>21</td>\n",
       "      <td>CONDUCTOR</td>\n",
       "      <td>MOTO</td>\n",
       "      <td>MASCULINO</td>\n",
       "      <td>29</td>\n",
       "      <td>2016-02-01</td>\n",
       "      <td>Entre 20 y 30</td>\n",
       "      <td>Jueves</td>\n",
       "    </tr>\n",
       "  </tbody>\n",
       "</table>\n",
       "</div>"
      ],
      "text/plain": [
       "    ID_hecho      FECHA  AAAA     MM  DD        ROL VICTIMA       SEXO  EDAD  \\\n",
       "0  2016-0001 2016-01-01  2016  Enero   1  CONDUCTOR    MOTO  MASCULINO    19   \n",
       "1  2016-0002 2016-01-02  2016  Enero   2  CONDUCTOR    AUTO  MASCULINO    70   \n",
       "2  2016-0003 2016-01-03  2016  Enero   3  CONDUCTOR    MOTO  MASCULINO    30   \n",
       "3  2016-0004 2016-01-10  2016  Enero  10  CONDUCTOR    MOTO  MASCULINO    18   \n",
       "4  2016-0005 2016-01-21  2016  Enero  21  CONDUCTOR    MOTO  MASCULINO    29   \n",
       "\n",
       "  FECHA_FALLECIMIENTO   Rango_Etario Nombre_Día  \n",
       "0          2016-01-01    Menos de 20    Viernes  \n",
       "1          2016-01-02  Mayores de 60     Sábado  \n",
       "2          2016-01-03  Entre 30 y 40    Domingo  \n",
       "3          1900-01-01    Menos de 20    Domingo  \n",
       "4          2016-02-01  Entre 20 y 30     Jueves  "
      ]
     },
     "execution_count": 57,
     "metadata": {},
     "output_type": "execute_result"
    }
   ],
   "source": [
    "df_victimas.head(5)"
   ]
  },
  {
   "cell_type": "markdown",
   "metadata": {},
   "source": [
    "Ahora procederemos a cambiar el nombre de algunas columnas"
   ]
  },
  {
   "cell_type": "code",
   "execution_count": 58,
   "metadata": {},
   "outputs": [],
   "source": [
    "df_victimas.rename(columns={\"AAAA\":\"Año\", \"MM\":\"Mes\", \"DD\":\"Día\", \"SEXO\":\"GENERO\"}, inplace = True)"
   ]
  },
  {
   "cell_type": "code",
   "execution_count": 59,
   "metadata": {},
   "outputs": [],
   "source": [
    "df_victimas.columns = df_victimas.columns.str.title() "
   ]
  },
  {
   "cell_type": "code",
   "execution_count": 60,
   "metadata": {},
   "outputs": [
    {
     "data": {
      "text/plain": [
       "Index(['Id_Hecho', 'Fecha', 'Año', 'Mes', 'Día', 'Rol', 'Victima', 'Genero',\n",
       "       'Edad', 'Fecha_Fallecimiento', 'Rango_Etario', 'Nombre_Día'],\n",
       "      dtype='object')"
      ]
     },
     "execution_count": 60,
     "metadata": {},
     "output_type": "execute_result"
    }
   ],
   "source": [
    "df_victimas.columns"
   ]
  },
  {
   "cell_type": "markdown",
   "metadata": {},
   "source": [
    "Procederé a cambiar el orden de las columnas para mejor visualización."
   ]
  },
  {
   "cell_type": "code",
   "execution_count": 61,
   "metadata": {},
   "outputs": [],
   "source": [
    "nuevo_orden = ['Id_Hecho', 'Fecha', 'Año', 'Mes', 'Día','Nombre_Día', 'Rol', 'Victima', 'Genero', 'Edad',  'Rango_Etario',  'Fecha_Fallecimiento']\n",
    "df_victimas = df_victimas[nuevo_orden]"
   ]
  },
  {
   "cell_type": "code",
   "execution_count": 62,
   "metadata": {},
   "outputs": [
    {
     "data": {
      "text/html": [
       "<div>\n",
       "<style scoped>\n",
       "    .dataframe tbody tr th:only-of-type {\n",
       "        vertical-align: middle;\n",
       "    }\n",
       "\n",
       "    .dataframe tbody tr th {\n",
       "        vertical-align: top;\n",
       "    }\n",
       "\n",
       "    .dataframe thead th {\n",
       "        text-align: right;\n",
       "    }\n",
       "</style>\n",
       "<table border=\"1\" class=\"dataframe\">\n",
       "  <thead>\n",
       "    <tr style=\"text-align: right;\">\n",
       "      <th></th>\n",
       "      <th>Id_Hecho</th>\n",
       "      <th>Fecha</th>\n",
       "      <th>Año</th>\n",
       "      <th>Mes</th>\n",
       "      <th>Día</th>\n",
       "      <th>Nombre_Día</th>\n",
       "      <th>Rol</th>\n",
       "      <th>Victima</th>\n",
       "      <th>Genero</th>\n",
       "      <th>Edad</th>\n",
       "      <th>Rango_Etario</th>\n",
       "      <th>Fecha_Fallecimiento</th>\n",
       "    </tr>\n",
       "  </thead>\n",
       "  <tbody>\n",
       "    <tr>\n",
       "      <th>0</th>\n",
       "      <td>2016-0001</td>\n",
       "      <td>2016-01-01</td>\n",
       "      <td>2016</td>\n",
       "      <td>Enero</td>\n",
       "      <td>1</td>\n",
       "      <td>Viernes</td>\n",
       "      <td>CONDUCTOR</td>\n",
       "      <td>MOTO</td>\n",
       "      <td>MASCULINO</td>\n",
       "      <td>19</td>\n",
       "      <td>Menos de 20</td>\n",
       "      <td>2016-01-01</td>\n",
       "    </tr>\n",
       "    <tr>\n",
       "      <th>1</th>\n",
       "      <td>2016-0002</td>\n",
       "      <td>2016-01-02</td>\n",
       "      <td>2016</td>\n",
       "      <td>Enero</td>\n",
       "      <td>2</td>\n",
       "      <td>Sábado</td>\n",
       "      <td>CONDUCTOR</td>\n",
       "      <td>AUTO</td>\n",
       "      <td>MASCULINO</td>\n",
       "      <td>70</td>\n",
       "      <td>Mayores de 60</td>\n",
       "      <td>2016-01-02</td>\n",
       "    </tr>\n",
       "  </tbody>\n",
       "</table>\n",
       "</div>"
      ],
      "text/plain": [
       "    Id_Hecho      Fecha   Año    Mes  Día Nombre_Día        Rol Victima  \\\n",
       "0  2016-0001 2016-01-01  2016  Enero    1    Viernes  CONDUCTOR    MOTO   \n",
       "1  2016-0002 2016-01-02  2016  Enero    2     Sábado  CONDUCTOR    AUTO   \n",
       "\n",
       "      Genero  Edad   Rango_Etario Fecha_Fallecimiento  \n",
       "0  MASCULINO    19    Menos de 20          2016-01-01  \n",
       "1  MASCULINO    70  Mayores de 60          2016-01-02  "
      ]
     },
     "execution_count": 62,
     "metadata": {},
     "output_type": "execute_result"
    }
   ],
   "source": [
    "df_victimas.head(2)"
   ]
  },
  {
   "cell_type": "code",
   "execution_count": 63,
   "metadata": {},
   "outputs": [
    {
     "data": {
      "text/plain": [
       "Id_Hecho                       object\n",
       "Fecha                  datetime64[ns]\n",
       "Año                             int64\n",
       "Mes                            object\n",
       "Día                             int64\n",
       "Nombre_Día                     object\n",
       "Rol                            object\n",
       "Victima                        object\n",
       "Genero                         object\n",
       "Edad                            int32\n",
       "Rango_Etario                 category\n",
       "Fecha_Fallecimiento    datetime64[ns]\n",
       "dtype: object"
      ]
     },
     "execution_count": 63,
     "metadata": {},
     "output_type": "execute_result"
    }
   ],
   "source": [
    "df_victimas.dtypes"
   ]
  },
  {
   "cell_type": "markdown",
   "metadata": {},
   "source": [
    "Procederemos a evaluar las columnas, ya sea, aisladamente o en conjunto."
   ]
  },
  {
   "cell_type": "markdown",
   "metadata": {},
   "source": [
    "Procedemos a exportar a archivo csv"
   ]
  },
  {
   "cell_type": "code",
   "execution_count": 64,
   "metadata": {},
   "outputs": [],
   "source": [
    "df_victimas.to_csv(\"victimas.csv\", sep = \";\", index = False)"
   ]
  },
  {
   "cell_type": "markdown",
   "metadata": {},
   "source": [
    "Vamos a unir los dos datasets para tenerlos disponibles en caso de ser requeridos para futuros analisis."
   ]
  },
  {
   "cell_type": "code",
   "execution_count": 65,
   "metadata": {},
   "outputs": [],
   "source": [
    "df_merged = pd.merge(df_victimas, df_hechos, left_on=\"Id_Hecho\", right_on=\"Id\", how=\"inner\")\n"
   ]
  },
  {
   "cell_type": "code",
   "execution_count": 66,
   "metadata": {},
   "outputs": [
    {
     "data": {
      "text/plain": [
       "Index(['Id_Hecho', 'Fecha_x', 'Año_x', 'Mes_x', 'Día_x', 'Nombre_Día_x', 'Rol',\n",
       "       'Victima_x', 'Genero', 'Edad', 'Rango_Etario', 'Fecha_Fallecimiento',\n",
       "       'Id', 'N_Victimas', 'Fecha_y', 'Año_y', 'Mes_y', 'Día_y',\n",
       "       'Nombre_Día_y', 'Hora', 'Franja Horaria Entera', 'Lugar_Del_Hecho',\n",
       "       'Tipo_De_Calle', 'Calle', 'Cruce', 'Dirección Normalizada', 'Comuna',\n",
       "       'Pos X', 'Pos Y', 'Coordenada_X', 'Coordenada_Y', 'Participantes',\n",
       "       'Victima_y', 'Acusado'],\n",
       "      dtype='object')"
      ]
     },
     "execution_count": 66,
     "metadata": {},
     "output_type": "execute_result"
    }
   ],
   "source": [
    "df_merged.columns"
   ]
  },
  {
   "cell_type": "markdown",
   "metadata": {},
   "source": [
    "Vamos a ver si las columnas son sufijo _x son iguales a aquellas cuyo sufijo es _y"
   ]
  },
  {
   "cell_type": "code",
   "execution_count": 67,
   "metadata": {},
   "outputs": [
    {
     "name": "stdout",
     "output_type": "stream",
     "text": [
      "¿Las columnas Fecha_x y Fecha_y son iguales?: False\n",
      "¿Las columnas Año_x y Año_y son iguales?: False\n",
      "¿Las columnas Mes_x y Mes_y son iguales?: True\n",
      "¿Las columnas Día_x y Día_y son iguales?: False\n",
      "¿Las columnas Nombre_Día_x y Nombre_Día_y son iguales?: False\n",
      "¿Las columnas Victima_x y Victima_y son iguales?: False\n"
     ]
    }
   ],
   "source": [
    "\n",
    "columnas_x = [col for col in df_merged.columns if col.endswith('_x')]\n",
    "columnas_y = [col for col in df_merged.columns if col.endswith('_y')]\n",
    "\n",
    "if len(columnas_x) == len(columnas_y):\n",
    "        for col_x, col_y in zip(columnas_x, columnas_y):\n",
    "            iguales = df_merged[col_x].equals(df_merged[col_y])  \n",
    "            print(f\"¿Las columnas {col_x} y {col_y} son iguales?: {iguales}\")\n",
    "else:\n",
    "    print(\"El número de columnas con _x y _y no coincide.\")\n"
   ]
  },
  {
   "cell_type": "markdown",
   "metadata": {},
   "source": [
    "Podemos ver que las columnas Mes. Son iguales asi que procederemos a eliminar una de estas."
   ]
  },
  {
   "cell_type": "code",
   "execution_count": 68,
   "metadata": {},
   "outputs": [],
   "source": [
    "df_merged.drop(columns=[\"Mes_y\"], inplace = True)\n",
    "df_merged.rename(columns={\"Mes_x\":\"Mes\"}, inplace = True)"
   ]
  },
  {
   "cell_type": "markdown",
   "metadata": {},
   "source": [
    "Ahora procederemos a cambiar el sufijo por el nombre del dataset de procedencia."
   ]
  },
  {
   "cell_type": "code",
   "execution_count": 69,
   "metadata": {},
   "outputs": [
    {
     "name": "stdout",
     "output_type": "stream",
     "text": [
      "Index(['Id_Hecho', 'Fecha_Victima', 'Año_Victima', 'Mes', 'Día_Victima',\n",
      "       'Nombre_Día_Victima', 'Rol', 'Victima_Victima', 'Genero', 'Edad',\n",
      "       'Rango_Etario', 'Fecha_Fallecimiento', 'Id', 'N_Victimas',\n",
      "       'Fecha_Hechos', 'Año_Hechos', 'Día_Hechos', 'Nombre_Día_Hechos', 'Hora',\n",
      "       'Franja Horaria Entera', 'Lugar_Del_Hecho', 'Tipo_De_Calle', 'Calle',\n",
      "       'Cruce', 'Dirección Normalizada', 'Comuna', 'Pos X', 'Pos Y',\n",
      "       'Coordenada_X', 'Coordenada_Y', 'Participantes', 'Victima_Hechos',\n",
      "       'Acusado'],\n",
      "      dtype='object')\n"
     ]
    }
   ],
   "source": [
    "\n",
    "df_merged.rename(columns=lambda col: col.replace('_x', '_Victima') if col.endswith('_x') else col.replace('_y', '_Hechos'), inplace=True)\n",
    "\n",
    "# Verificar los cambios en las columnas\n",
    "print(df_merged.columns)\n"
   ]
  },
  {
   "cell_type": "markdown",
   "metadata": {},
   "source": [
    "Procedemos a exportarlo."
   ]
  },
  {
   "cell_type": "code",
   "execution_count": 70,
   "metadata": {},
   "outputs": [],
   "source": [
    "df_merged.to_csv(\"Merged.csv\", sep = \";\" ,index = False)"
   ]
  },
  {
   "cell_type": "code",
   "execution_count": 71,
   "metadata": {},
   "outputs": [],
   "source": [
    "info = pd.read_csv(r\"C:\\Users\\Cristian\\Desktop\\DATA SCIENCE\\HENRY\\PI2\\DataLake\\Opcional\\data.csv\", sep = \";\")\n"
   ]
  },
  {
   "cell_type": "code",
   "execution_count": 73,
   "metadata": {},
   "outputs": [
    {
     "name": "stdout",
     "output_type": "stream",
     "text": [
      "Conexión con la base de datos MySQL exitosa.\n"
     ]
    }
   ],
   "source": [
    "# Configuración de conexión\n",
    "username = info.iloc[0,1]\n",
    "password = info.iloc[1,1]\n",
    "host = 'localhost'\n",
    "port = '3306'\n",
    "database = info.iloc[2,1]\n",
    "\n",
    "# Crear la URL de conexión\n",
    "url = f'mysql+mysqlconnector://{username}:{password}@{host}:{port}/{database}'\n",
    "engine = create_engine(url)\n",
    "\n",
    "try:\n",
    "    connection = engine.connect()\n",
    "    print(\"Conexión con la base de datos MySQL exitosa.\")\n",
    "except Exception as e:\n",
    "    print(f\"Error al conectar con la base de datos MySQL: {e}\")\n",
    "\n",
    "df_hechos.to_sql(\"Hechos_1\", engine, if_exists = \"replace\", index = False)\n",
    "df_victimas.to_sql(\"Victimas_1\", engine, if_exists = \"replace\", index = False)\n",
    "df_merged.to_sql(\"Siniestros\", engine, if_exists = \"replace\", index = False)\n",
    "\n",
    "# Cerrar la conexión\n",
    "engine.dispose()"
   ]
  }
 ],
 "metadata": {
  "kernelspec": {
   "display_name": "Python 3",
   "language": "python",
   "name": "python3"
  },
  "language_info": {
   "codemirror_mode": {
    "name": "ipython",
    "version": 3
   },
   "file_extension": ".py",
   "mimetype": "text/x-python",
   "name": "python",
   "nbconvert_exporter": "python",
   "pygments_lexer": "ipython3",
   "version": "3.11.0"
  }
 },
 "nbformat": 4,
 "nbformat_minor": 2
}
